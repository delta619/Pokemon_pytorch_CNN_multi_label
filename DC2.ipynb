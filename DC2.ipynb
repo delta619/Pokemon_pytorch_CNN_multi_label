{
 "cells": [
  {
   "cell_type": "code",
   "metadata": {
    "execution": {
     "iopub.execute_input": "2021-01-24T08:41:22.250666Z",
     "iopub.status.busy": "2021-01-24T08:41:22.250126Z",
     "iopub.status.idle": "2021-01-24T08:41:23.779620Z",
     "shell.execute_reply": "2021-01-24T08:41:23.779059Z"
    },
    "papermill": {
     "duration": 1.564224,
     "end_time": "2021-01-24T08:41:23.779739",
     "exception": false,
     "start_time": "2021-01-24T08:41:22.215515",
     "status": "completed"
    },
    "tags": [],
    "ExecuteTime": {
     "end_time": "2024-05-08T13:08:52.825557Z",
     "start_time": "2024-05-08T13:08:52.806032Z"
    }
   },
   "source": [
    "import pandas as pd\n",
    "\n",
    "import torchvision.transforms as transforms\n",
    "import matplotlib.pyplot as plt\n",
    "import re, random\n",
    "from torch import tensor\n",
    "%matplotlib inline"
   ],
   "outputs": [],
   "execution_count": 94
  },
  {
   "cell_type": "code",
   "metadata": {
    "execution": {
     "iopub.execute_input": "2021-01-24T08:41:23.898609Z",
     "iopub.status.busy": "2021-01-24T08:41:23.897874Z",
     "iopub.status.idle": "2021-01-24T08:41:23.900458Z",
     "shell.execute_reply": "2021-01-24T08:41:23.900848Z"
    },
    "papermill": {
     "duration": 0.031072,
     "end_time": "2021-01-24T08:41:23.900950",
     "exception": false,
     "start_time": "2021-01-24T08:41:23.869878",
     "status": "completed"
    },
    "tags": [],
    "ExecuteTime": {
     "end_time": "2024-05-08T11:24:37.305768Z",
     "start_time": "2024-05-08T11:24:37.293944Z"
    }
   },
   "source": "df = pd.read_csv('PokemonStats.csv')",
   "outputs": [],
   "execution_count": 2
  },
  {
   "cell_type": "code",
   "metadata": {
    "execution": {
     "iopub.execute_input": "2021-01-24T08:41:24.011618Z",
     "iopub.status.busy": "2021-01-24T08:41:24.010939Z",
     "iopub.status.idle": "2021-01-24T08:41:24.013463Z",
     "shell.execute_reply": "2021-01-24T08:41:24.013871Z"
    },
    "papermill": {
     "duration": 0.032567,
     "end_time": "2021-01-24T08:41:24.013965",
     "exception": false,
     "start_time": "2021-01-24T08:41:23.981398",
     "status": "completed"
    },
    "tags": [],
    "ExecuteTime": {
     "end_time": "2024-05-08T11:24:37.310150Z",
     "start_time": "2024-05-08T11:24:37.306356Z"
    }
   },
   "source": [
    "# Helper functions\n",
    "def get_type_using_pokemon_name(pokemon):\n",
    "    row = df[df['Pokemon'] == pokemon]['Type']\n",
    "\n",
    "    if len(row):\n",
    "        return row.values[0].split(', ')\n",
    "    return None\n",
    "def imshow(img):\n",
    "    plt.imshow(np.transpose(img/2+0.5, (1, 2, 0)))\n",
    "    \n",
    "\n",
    "def plot_loss_curves(train_losses, valid_losses):\n",
    "    \"\"\"\n",
    "    Plot the loss curves for both training and validation sets.\n",
    "    \n",
    "    Args:\n",
    "        train_losses (list): List of training losses across epochs.\n",
    "        valid_losses (list): List of validation losses across epochs.\n",
    "    \"\"\"\n",
    "    epochs = range(1, len(train_losses) + 1)\n",
    "    \n",
    "    plt.figure(figsize=(10, 6))\n",
    "    plt.plot(epochs, train_losses, label='Training Loss')\n",
    "    plt.plot(epochs, valid_losses, label='Validation Loss')\n",
    "    \n",
    "    plt.title('Loss Curves', fontsize=16)\n",
    "    plt.xlabel('Epoch', fontsize=14)\n",
    "    plt.ylabel('Loss', fontsize=14)\n",
    "    plt.legend()\n",
    "    plt.grid()\n",
    "    plt.show()\n",
    "    \n",
    "\n",
    "def keep_alpha_chars(input_string):\n",
    "    # Using regular expression to remove non-alphabetic characters\n",
    "    return re.sub(r'[^a-zA-Z\\s\\-.\\'\"]', '', input_string)\n",
    "\n",
    "def get_random_label_vector(mlb, classes):\n",
    "    random_number = random.randint(0, 17)\n",
    "    return mlb.transform([classes[random_number]])[0]\n",
    "\n",
    "    \n",
    "\n"
   ],
   "outputs": [],
   "execution_count": 3
  },
  {
   "metadata": {
    "ExecuteTime": {
     "end_time": "2024-05-08T11:24:37.781272Z",
     "start_time": "2024-05-08T11:24:37.311596Z"
    }
   },
   "cell_type": "code",
   "source": [
    "# Handling multiLabelBinarizer\n",
    "classes = list(set([tt for typex in list(df['Type']) for tt in typex.split(\", \")]))\n",
    "classes = [[c] for c in classes]\n",
    "\n",
    "from sklearn.preprocessing import MultiLabelBinarizer\n",
    "mlb = MultiLabelBinarizer()\n",
    "mlb.fit(classes)\n",
    "\n",
    "temp = mlb.transform([[\"Ice\", \"Fire\",]])\n",
    "print(\"Encoded = \", temp)\n",
    "\n",
    "decoded = mlb.inverse_transform(temp)\n",
    "print(\"Decoded = \",decoded)"
   ],
   "outputs": [
    {
     "name": "stdout",
     "output_type": "stream",
     "text": [
      "Encoded =  [[0 0 0 0 0 0 1 0 0 0 0 1 0 0 0 0 0 0]]\n",
      "Decoded =  [('Fire', 'Ice')]\n"
     ]
    }
   ],
   "execution_count": 4
  },
  {
   "metadata": {
    "ExecuteTime": {
     "end_time": "2024-05-08T14:01:42.391109Z",
     "start_time": "2024-05-08T14:01:42.380368Z"
    }
   },
   "cell_type": "code",
   "source": [
    "# Defining the custom image dataset\n",
    "from torchvision.datasets import ImageFolder\n",
    "class CustomImageDataset(ImageFolder):\n",
    "    def __init__(self, root, transform=None):\n",
    "        self.root_dir = root\n",
    "        self.transform = transform\n",
    "        self.present = 0\n",
    "        self.absent = 0\n",
    "        super().__init__(self.root_dir, self.transform)\n",
    "    \n",
    "    def __len__(self):\n",
    "        return len(self.samples)\n",
    "    \n",
    "    def __getitem__(self, index):\n",
    "        path, target = self.samples[index]\n",
    "        sample = self.loader(path)\n",
    "        if self.transform is not None:\n",
    "            sample = self.transform(sample)\n",
    "\n",
    "        # get_type_using_pokemon_name(self.samples[index].split('/')[1])\n",
    "        pokemon = self.samples[index][0].split('/')[1]\n",
    "        label = get_type_using_pokemon_name(keep_alpha_chars(pokemon))\n",
    "        if label is None:\n",
    "            return sample, pokemon, get_random_label_vector(mlb, classes)\n",
    "            # return None, None\n",
    "        return sample, pokemon, mlb.transform([label])[0]"
   ],
   "outputs": [],
   "execution_count": 141
  },
  {
   "cell_type": "code",
   "metadata": {
    "execution": {
     "iopub.execute_input": "2021-01-24T08:41:24.126037Z",
     "iopub.status.busy": "2021-01-24T08:41:24.125372Z",
     "iopub.status.idle": "2021-01-24T08:41:24.128164Z",
     "shell.execute_reply": "2021-01-24T08:41:24.127750Z"
    },
    "papermill": {
     "duration": 0.032612,
     "end_time": "2021-01-24T08:41:24.128254",
     "exception": false,
     "start_time": "2021-01-24T08:41:24.095642",
     "status": "completed"
    },
    "tags": [],
    "ExecuteTime": {
     "end_time": "2024-05-08T14:07:27.357610Z",
     "start_time": "2024-05-08T14:07:27.182884Z"
    }
   },
   "source": [
    "#generating the custom datasets from the Imagefodler\n",
    "\n",
    "train_dir = \"TrainImages\"\n",
    "test_dir = \"TestImages\"\n",
    "\n",
    "transform = transforms.Compose([\n",
    "    transforms.Resize((64, 64)),\n",
    "    transforms.ToTensor(),\n",
    "    transforms.Normalize((0.5, 0.5, 0.5), (0.5, 0.5, 0.5))\n",
    "])\n",
    "\n",
    "train_data = CustomImageDataset(root=train_dir, transform=transform)\n",
    "test_data = CustomImageDataset(root=test_dir, transform=transform)\n"
   ],
   "outputs": [],
   "execution_count": 162
  },
  {
   "metadata": {
    "ExecuteTime": {
     "end_time": "2024-05-08T14:01:45.582293Z",
     "start_time": "2024-05-08T14:01:45.467933Z"
    }
   },
   "cell_type": "code",
   "source": [
    "# Split train into train/validation (USING ONLY POKEMONS PRESENT IN THE CSV)\n",
    "\n",
    "import numpy as np\n",
    "\n",
    "present_indices = []\n",
    "\n",
    "for i,c in enumerate(train_data.classes):\n",
    "    if get_type_using_pokemon_name(keep_alpha_chars(c)): # using only CSV present pokemons for training for now.\n",
    "        present_indices.append(i) # appending csv present pookemons in the list.\n",
    "        \n",
    "valid_size = 0.2\n",
    "num_train = len(present_indices)\n",
    "indices = present_indices\n",
    "np.random.shuffle(indices)\n",
    "split = int(np.floor(num_train * valid_size))\n",
    "train_indices = indices[split:]\n",
    "valid_indices = indices[:split]"
   ],
   "outputs": [],
   "execution_count": 143
  },
  {
   "cell_type": "code",
   "metadata": {
    "execution": {
     "iopub.execute_input": "2021-01-24T08:41:30.213793Z",
     "iopub.status.busy": "2021-01-24T08:41:30.212786Z",
     "iopub.status.idle": "2021-01-24T08:41:30.215324Z",
     "shell.execute_reply": "2021-01-24T08:41:30.214536Z"
    },
    "papermill": {
     "duration": 0.076778,
     "end_time": "2021-01-24T08:41:30.215451",
     "exception": false,
     "start_time": "2021-01-24T08:41:30.138673",
     "status": "completed"
    },
    "tags": [],
    "ExecuteTime": {
     "end_time": "2024-05-08T14:07:34.274781Z",
     "start_time": "2024-05-08T14:07:34.268091Z"
    }
   },
   "source": [
    "# Using subset randomsampler to use the index to form sampler\n",
    "from torch.utils.data.sampler import SubsetRandomSampler\n",
    "\n",
    "train_sampler = SubsetRandomSampler(train_indices)\n",
    "valid_sampler = SubsetRandomSampler(valid_indices)\n"
   ],
   "outputs": [],
   "execution_count": 164
  },
  {
   "metadata": {},
   "cell_type": "markdown",
   "source": ""
  },
  {
   "metadata": {
    "ExecuteTime": {
     "end_time": "2024-05-08T14:07:35.645274Z",
     "start_time": "2024-05-08T14:07:35.640995Z"
    }
   },
   "cell_type": "code",
   "source": [
    "# Using randomsampler to generrate Dataloaders\n",
    "from torch.utils.data import DataLoader\n",
    "train_loader = DataLoader(train_data, batch_size=32, sampler=train_sampler)\n",
    "valid_loader = DataLoader(train_data, batch_size=32, sampler=valid_sampler)\n",
    "test_loader = DataLoader(test_data, batch_size=32)\n"
   ],
   "outputs": [],
   "execution_count": 165
  },
  {
   "metadata": {
    "ExecuteTime": {
     "end_time": "2024-05-08T14:02:01.551804Z",
     "start_time": "2024-05-08T14:02:01.131074Z"
    }
   },
   "cell_type": "code",
   "source": [
    "# Check visualize sample data from train_loader\n",
    "dataiter = iter(train_loader)\n",
    "images, pokemon, labels = next(dataiter)\n",
    "\n",
    "print(\"Pokemon: \", pokemon[0])\n",
    "# for index in np.arange(32):\n",
    "print(\"Y: \", labels[0])\n",
    "\n",
    "\n",
    "# print(\"Label: \", mlb.inverse_transform(tensor([labels[0]])))\n",
    "imshow(images[0])\n"
   ],
   "outputs": [
    {
     "name": "stdout",
     "output_type": "stream",
     "text": [
      "Pokemon:  Alolan Exeggutor\n",
      "Y:  tensor([0, 0, 1, 0, 0, 0, 0, 0, 0, 1, 0, 0, 0, 0, 0, 0, 0, 0])\n"
     ]
    },
    {
     "data": {
      "text/plain": [
       "<Figure size 640x480 with 1 Axes>"
      ],
      "image/png": "[encoded data removed]"
     },
     "metadata": {},
     "output_type": "display_data"
    }
   ],
   "execution_count": 157
  },
  {
   "metadata": {
    "ExecuteTime": {
     "end_time": "2024-05-08T11:24:38.404798Z",
     "start_time": "2024-05-08T11:24:38.399762Z"
    }
   },
   "cell_type": "code",
   "source": [
    "import torch.nn as nn\n",
    "\n",
    "class PokemonTypeCNN(nn.Module):\n",
    "    def __init__(self, num_pokemon_types):\n",
    "        super(PokemonTypeCNN, self).__init__()\n",
    "        self.features = nn.Sequential(\n",
    "            nn.Conv2d(3, 64, kernel_size=3, stride=1, padding=1),\n",
    "            nn.ReLU(inplace=True),\n",
    "            nn.MaxPool2d(kernel_size=2, stride=2),\n",
    "            nn.Conv2d(64, 128, kernel_size=3, stride=1, padding=1),\n",
    "            nn.ReLU(inplace=True),\n",
    "            nn.MaxPool2d(kernel_size=2, stride=2),\n",
    "            nn.Conv2d(128, 256, kernel_size=3, stride=1, padding=1),\n",
    "            nn.ReLU(inplace=True),\n",
    "            nn.MaxPool2d(kernel_size=2, stride=2)\n",
    "        )\n",
    "        self.classifier = nn.Sequential(\n",
    "            nn.Dropout(p=0.5),\n",
    "            nn.Linear(256 * 8 * 8, 512),\n",
    "            nn.ReLU(inplace=True),\n",
    "            nn.Dropout(p=0.5),\n",
    "            nn.Linear(512, num_pokemon_types) # num_pokemon_types is 18\n",
    "        )\n",
    "\n",
    "    def forward(self, x):\n",
    "        x = self.features(x)\n",
    "        x = x.view(x.size(0), -1)\n",
    "        x = self.classifier(x)\n",
    "        return x"
   ],
   "outputs": [],
   "execution_count": 12
  },
  {
   "metadata": {
    "ExecuteTime": {
     "end_time": "2024-05-08T11:24:38.456170Z",
     "start_time": "2024-05-08T11:24:38.406148Z"
    }
   },
   "cell_type": "code",
   "source": [
    "model = PokemonTypeCNN(len(mlb.classes_))\n",
    "model"
   ],
   "outputs": [
    {
     "data": {
      "text/plain": [
       "PokemonTypeCNN(\n",
       "  (features): Sequential(\n",
       "    (0): Conv2d(3, 64, kernel_size=(3, 3), stride=(1, 1), padding=(1, 1))\n",
       "    (1): ReLU(inplace=True)\n",
       "    (2): MaxPool2d(kernel_size=2, stride=2, padding=0, dilation=1, ceil_mode=False)\n",
       "    (3): Conv2d(64, 128, kernel_size=(3, 3), stride=(1, 1), padding=(1, 1))\n",
       "    (4): ReLU(inplace=True)\n",
       "    (5): MaxPool2d(kernel_size=2, stride=2, padding=0, dilation=1, ceil_mode=False)\n",
       "    (6): Conv2d(128, 256, kernel_size=(3, 3), stride=(1, 1), padding=(1, 1))\n",
       "    (7): ReLU(inplace=True)\n",
       "    (8): MaxPool2d(kernel_size=2, stride=2, padding=0, dilation=1, ceil_mode=False)\n",
       "  )\n",
       "  (classifier): Sequential(\n",
       "    (0): Dropout(p=0.5, inplace=False)\n",
       "    (1): Linear(in_features=16384, out_features=512, bias=True)\n",
       "    (2): ReLU(inplace=True)\n",
       "    (3): Dropout(p=0.5, inplace=False)\n",
       "    (4): Linear(in_features=512, out_features=18, bias=True)\n",
       "  )\n",
       ")"
      ]
     },
     "execution_count": 13,
     "metadata": {},
     "output_type": "execute_result"
    }
   ],
   "execution_count": 13
  },
  {
   "metadata": {
    "ExecuteTime": {
     "end_time": "2024-05-08T11:24:38.959895Z",
     "start_time": "2024-05-08T11:24:38.457821Z"
    }
   },
   "cell_type": "code",
   "source": [
    "import torch.optim as optim\n",
    "from torchmetrics.classification import HammingDistance\n",
    "\n",
    "criterion = nn.BCEWithLogitsLoss()\n",
    "optimizer = optim.Adam(model.parameters(), lr=0.001)\n"
   ],
   "outputs": [],
   "execution_count": 14
  },
  {
   "metadata": {
    "ExecuteTime": {
     "end_time": "2024-05-08T11:40:47.479376Z",
     "start_time": "2024-05-08T11:24:38.962795Z"
    }
   },
   "cell_type": "code",
   "source": [
    "epochs = 100\n",
    "\n",
    "train_loss = []\n",
    "valid_loss = []\n",
    "\n",
    "for epoch in range(epochs):\n",
    "    epoch_train_loss = 0.\n",
    "    model.train()\n",
    "    for data, pokemon, target in train_loader:\n",
    "        \n",
    "        \n",
    "        # print(data, target)\n",
    "        optimizer.zero_grad()\n",
    "        output = model(data)\n",
    "        target = target.float()  # Convert target labels to torch.float32\n",
    "        loss = criterion(output, target)\n",
    "        loss.backward()\n",
    "        optimizer.step()\n",
    "        epoch_train_loss += loss.item() * data.size(0)\n",
    "    train_loss.append(epoch_train_loss/len(train_data))\n",
    "    model.eval()\n",
    "\n",
    "    epoch_valid_loss = 0.\n",
    "    for data,pokemon, target in valid_loader:\n",
    "        output = model(data)\n",
    "        target = target.float()  # Convert target labels to torch.float32\n",
    "        loss = criterion(output, target)\n",
    "\n",
    "        epoch_valid_loss += loss.item() * data.size(0)\n",
    "    valid_loss.append(epoch_valid_loss / 1000.)\n",
    "    \n",
    "    print('Epoch', epoch, 'losses:', train_loss[-1], valid_loss[-1])"
   ],
   "outputs": [
    {
     "name": "stdout",
     "output_type": "stream",
     "text": [
      "Epoch 0 losses: 0.146753544248906 0.051663292169570926\n",
      "Epoch 1 losses: 0.11859687962823695 0.05004502832889557\n",
      "Epoch 2 losses: 0.11721509371191759 0.04927388286590576\n",
      "Epoch 3 losses: 0.1153582774474332 0.04868704926967621\n",
      "Epoch 4 losses: 0.1130485361587973 0.048072830200195316\n",
      "Epoch 5 losses: 0.11047395299279492 0.04721038925647736\n",
      "Epoch 6 losses: 0.10765445119128375 0.04636423099040985\n",
      "Epoch 7 losses: 0.103900983717266 0.04565872311592102\n",
      "Epoch 8 losses: 0.10039612842002561 0.04489515459537506\n",
      "Epoch 9 losses: 0.09790952304586095 0.04472104597091675\n",
      "Epoch 10 losses: 0.09509586254378112 0.04331082153320313\n",
      "Epoch 11 losses: 0.08758000510959331 0.04147352516651154\n",
      "Epoch 12 losses: 0.08247356952086198 0.04200763058662414\n",
      "Epoch 13 losses: 0.07606223908710932 0.03989827162027359\n",
      "Epoch 14 losses: 0.06910363260895509 0.038583853244781495\n",
      "Epoch 15 losses: 0.0602894664615959 0.03781429815292359\n",
      "Epoch 16 losses: 0.05289388263505174 0.03614686727523804\n",
      "Epoch 17 losses: 0.048998809023594346 0.0348349769115448\n",
      "Epoch 18 losses: 0.04136352910883636 0.036480671644210816\n",
      "Epoch 19 losses: 0.037432977739464926 0.03374659544229507\n",
      "Epoch 20 losses: 0.03226372918153885 0.03480067640542984\n",
      "Epoch 21 losses: 0.02921078429333954 0.03723517340421677\n",
      "Epoch 22 losses: 0.0261688040693306 0.031235597878694534\n",
      "Epoch 23 losses: 0.02163908508497859 0.036503329128026965\n",
      "Epoch 24 losses: 0.02251098196148306 0.03321104443073273\n",
      "Epoch 25 losses: 0.017110683344693903 0.03578057670593262\n",
      "Epoch 26 losses: 0.016387666670733846 0.037008529901504515\n",
      "Epoch 27 losses: 0.01773741844413258 0.03443798017501831\n",
      "Epoch 28 losses: 0.01534733912883207 0.03401956042647362\n",
      "Epoch 29 losses: 0.013984325945802087 0.034367616295814515\n",
      "Epoch 30 losses: 0.012324479623142443 0.0378557813167572\n",
      "Epoch 31 losses: 0.013646558862325521 0.03488730388879776\n",
      "Epoch 32 losses: 0.011356708337055108 0.03836620724201202\n",
      "Epoch 33 losses: 0.012182780720665165 0.0396439571082592\n",
      "Epoch 34 losses: 0.010208084496875203 0.039201030671596526\n",
      "Epoch 35 losses: 0.012149582238704179 0.03449618315696716\n",
      "Epoch 36 losses: 0.0096979240965399 0.037572184160351754\n",
      "Epoch 37 losses: 0.007731327415950544 0.04044233160838485\n",
      "Epoch 38 losses: 0.00908399384574978 0.04443217670917511\n",
      "Epoch 39 losses: 0.010562605456827372 0.03629353615641594\n",
      "Epoch 40 losses: 0.008958240336077089 0.040504207462072374\n",
      "Epoch 41 losses: 0.009183668639873665 0.036005640149116516\n",
      "Epoch 42 losses: 0.007673349503578172 0.04060934019088745\n",
      "Epoch 43 losses: 0.0073585634879135215 0.043595035493373874\n",
      "Epoch 44 losses: 0.008047562706419167 0.03951413844525814\n",
      "Epoch 45 losses: 0.007576377080165009 0.04195890378952026\n",
      "Epoch 46 losses: 0.007889155918984472 0.04014142918586731\n",
      "Epoch 47 losses: 0.009009539760259862 0.03807346999645233\n",
      "Epoch 48 losses: 0.008405210080859638 0.03701833212375641\n"
     ]
    },
    {
     "ename": "KeyboardInterrupt",
     "evalue": "",
     "output_type": "error",
     "traceback": [
      "\u001B[0;31m---------------------------------------------------------------------------\u001B[0m",
      "\u001B[0;31mKeyboardInterrupt\u001B[0m                         Traceback (most recent call last)",
      "Cell \u001B[0;32mIn[15], line 9\u001B[0m\n\u001B[1;32m      7\u001B[0m epoch_train_loss \u001B[38;5;241m=\u001B[39m \u001B[38;5;241m0.\u001B[39m\n\u001B[1;32m      8\u001B[0m model\u001B[38;5;241m.\u001B[39mtrain()\n\u001B[0;32m----> 9\u001B[0m \u001B[38;5;28;01mfor\u001B[39;00m data, pokemon, target \u001B[38;5;129;01min\u001B[39;00m train_loader:\n\u001B[1;32m     10\u001B[0m     \n\u001B[1;32m     11\u001B[0m     \n\u001B[1;32m     12\u001B[0m     \u001B[38;5;66;03m# print(data, target)\u001B[39;00m\n\u001B[1;32m     13\u001B[0m     optimizer\u001B[38;5;241m.\u001B[39mzero_grad()\n\u001B[1;32m     14\u001B[0m     output \u001B[38;5;241m=\u001B[39m model(data)\n",
      "File \u001B[0;32m~/anaconda3/lib/python3.11/site-packages/torch/utils/data/dataloader.py:631\u001B[0m, in \u001B[0;36m_BaseDataLoaderIter.__next__\u001B[0;34m(self)\u001B[0m\n\u001B[1;32m    628\u001B[0m \u001B[38;5;28;01mif\u001B[39;00m \u001B[38;5;28mself\u001B[39m\u001B[38;5;241m.\u001B[39m_sampler_iter \u001B[38;5;129;01mis\u001B[39;00m \u001B[38;5;28;01mNone\u001B[39;00m:\n\u001B[1;32m    629\u001B[0m     \u001B[38;5;66;03m# TODO(https://github.com/pytorch/pytorch/issues/76750)\u001B[39;00m\n\u001B[1;32m    630\u001B[0m     \u001B[38;5;28mself\u001B[39m\u001B[38;5;241m.\u001B[39m_reset()  \u001B[38;5;66;03m# type: ignore[call-arg]\u001B[39;00m\n\u001B[0;32m--> 631\u001B[0m data \u001B[38;5;241m=\u001B[39m \u001B[38;5;28mself\u001B[39m\u001B[38;5;241m.\u001B[39m_next_data()\n\u001B[1;32m    632\u001B[0m \u001B[38;5;28mself\u001B[39m\u001B[38;5;241m.\u001B[39m_num_yielded \u001B[38;5;241m+\u001B[39m\u001B[38;5;241m=\u001B[39m \u001B[38;5;241m1\u001B[39m\n\u001B[1;32m    633\u001B[0m \u001B[38;5;28;01mif\u001B[39;00m \u001B[38;5;28mself\u001B[39m\u001B[38;5;241m.\u001B[39m_dataset_kind \u001B[38;5;241m==\u001B[39m _DatasetKind\u001B[38;5;241m.\u001B[39mIterable \u001B[38;5;129;01mand\u001B[39;00m \\\n\u001B[1;32m    634\u001B[0m         \u001B[38;5;28mself\u001B[39m\u001B[38;5;241m.\u001B[39m_IterableDataset_len_called \u001B[38;5;129;01mis\u001B[39;00m \u001B[38;5;129;01mnot\u001B[39;00m \u001B[38;5;28;01mNone\u001B[39;00m \u001B[38;5;129;01mand\u001B[39;00m \\\n\u001B[1;32m    635\u001B[0m         \u001B[38;5;28mself\u001B[39m\u001B[38;5;241m.\u001B[39m_num_yielded \u001B[38;5;241m>\u001B[39m \u001B[38;5;28mself\u001B[39m\u001B[38;5;241m.\u001B[39m_IterableDataset_len_called:\n",
      "File \u001B[0;32m~/anaconda3/lib/python3.11/site-packages/torch/utils/data/dataloader.py:675\u001B[0m, in \u001B[0;36m_SingleProcessDataLoaderIter._next_data\u001B[0;34m(self)\u001B[0m\n\u001B[1;32m    673\u001B[0m \u001B[38;5;28;01mdef\u001B[39;00m \u001B[38;5;21m_next_data\u001B[39m(\u001B[38;5;28mself\u001B[39m):\n\u001B[1;32m    674\u001B[0m     index \u001B[38;5;241m=\u001B[39m \u001B[38;5;28mself\u001B[39m\u001B[38;5;241m.\u001B[39m_next_index()  \u001B[38;5;66;03m# may raise StopIteration\u001B[39;00m\n\u001B[0;32m--> 675\u001B[0m     data \u001B[38;5;241m=\u001B[39m \u001B[38;5;28mself\u001B[39m\u001B[38;5;241m.\u001B[39m_dataset_fetcher\u001B[38;5;241m.\u001B[39mfetch(index)  \u001B[38;5;66;03m# may raise StopIteration\u001B[39;00m\n\u001B[1;32m    676\u001B[0m     \u001B[38;5;28;01mif\u001B[39;00m \u001B[38;5;28mself\u001B[39m\u001B[38;5;241m.\u001B[39m_pin_memory:\n\u001B[1;32m    677\u001B[0m         data \u001B[38;5;241m=\u001B[39m _utils\u001B[38;5;241m.\u001B[39mpin_memory\u001B[38;5;241m.\u001B[39mpin_memory(data, \u001B[38;5;28mself\u001B[39m\u001B[38;5;241m.\u001B[39m_pin_memory_device)\n",
      "File \u001B[0;32m~/anaconda3/lib/python3.11/site-packages/torch/utils/data/_utils/fetch.py:51\u001B[0m, in \u001B[0;36m_MapDatasetFetcher.fetch\u001B[0;34m(self, possibly_batched_index)\u001B[0m\n\u001B[1;32m     49\u001B[0m         data \u001B[38;5;241m=\u001B[39m \u001B[38;5;28mself\u001B[39m\u001B[38;5;241m.\u001B[39mdataset\u001B[38;5;241m.\u001B[39m__getitems__(possibly_batched_index)\n\u001B[1;32m     50\u001B[0m     \u001B[38;5;28;01melse\u001B[39;00m:\n\u001B[0;32m---> 51\u001B[0m         data \u001B[38;5;241m=\u001B[39m [\u001B[38;5;28mself\u001B[39m\u001B[38;5;241m.\u001B[39mdataset[idx] \u001B[38;5;28;01mfor\u001B[39;00m idx \u001B[38;5;129;01min\u001B[39;00m possibly_batched_index]\n\u001B[1;32m     52\u001B[0m \u001B[38;5;28;01melse\u001B[39;00m:\n\u001B[1;32m     53\u001B[0m     data \u001B[38;5;241m=\u001B[39m \u001B[38;5;28mself\u001B[39m\u001B[38;5;241m.\u001B[39mdataset[possibly_batched_index]\n",
      "File \u001B[0;32m~/anaconda3/lib/python3.11/site-packages/torch/utils/data/_utils/fetch.py:51\u001B[0m, in \u001B[0;36m<listcomp>\u001B[0;34m(.0)\u001B[0m\n\u001B[1;32m     49\u001B[0m         data \u001B[38;5;241m=\u001B[39m \u001B[38;5;28mself\u001B[39m\u001B[38;5;241m.\u001B[39mdataset\u001B[38;5;241m.\u001B[39m__getitems__(possibly_batched_index)\n\u001B[1;32m     50\u001B[0m     \u001B[38;5;28;01melse\u001B[39;00m:\n\u001B[0;32m---> 51\u001B[0m         data \u001B[38;5;241m=\u001B[39m [\u001B[38;5;28mself\u001B[39m\u001B[38;5;241m.\u001B[39mdataset[idx] \u001B[38;5;28;01mfor\u001B[39;00m idx \u001B[38;5;129;01min\u001B[39;00m possibly_batched_index]\n\u001B[1;32m     52\u001B[0m \u001B[38;5;28;01melse\u001B[39;00m:\n\u001B[1;32m     53\u001B[0m     data \u001B[38;5;241m=\u001B[39m \u001B[38;5;28mself\u001B[39m\u001B[38;5;241m.\u001B[39mdataset[possibly_batched_index]\n",
      "Cell \u001B[0;32mIn[5], line 16\u001B[0m, in \u001B[0;36mCustomImageDataset.__getitem__\u001B[0;34m(self, index)\u001B[0m\n\u001B[1;32m     14\u001B[0m \u001B[38;5;28;01mdef\u001B[39;00m \u001B[38;5;21m__getitem__\u001B[39m(\u001B[38;5;28mself\u001B[39m, index):\n\u001B[1;32m     15\u001B[0m     path, target \u001B[38;5;241m=\u001B[39m \u001B[38;5;28mself\u001B[39m\u001B[38;5;241m.\u001B[39msamples[index]\n\u001B[0;32m---> 16\u001B[0m     sample \u001B[38;5;241m=\u001B[39m \u001B[38;5;28mself\u001B[39m\u001B[38;5;241m.\u001B[39mloader(path)\n\u001B[1;32m     17\u001B[0m     \u001B[38;5;28;01mif\u001B[39;00m \u001B[38;5;28mself\u001B[39m\u001B[38;5;241m.\u001B[39mtransform \u001B[38;5;129;01mis\u001B[39;00m \u001B[38;5;129;01mnot\u001B[39;00m \u001B[38;5;28;01mNone\u001B[39;00m:\n\u001B[1;32m     18\u001B[0m         sample \u001B[38;5;241m=\u001B[39m \u001B[38;5;28mself\u001B[39m\u001B[38;5;241m.\u001B[39mtransform(sample)\n",
      "File \u001B[0;32m~/anaconda3/lib/python3.11/site-packages/torchvision/datasets/folder.py:284\u001B[0m, in \u001B[0;36mdefault_loader\u001B[0;34m(path)\u001B[0m\n\u001B[1;32m    282\u001B[0m     \u001B[38;5;28;01mreturn\u001B[39;00m accimage_loader(path)\n\u001B[1;32m    283\u001B[0m \u001B[38;5;28;01melse\u001B[39;00m:\n\u001B[0;32m--> 284\u001B[0m     \u001B[38;5;28;01mreturn\u001B[39;00m pil_loader(path)\n",
      "File \u001B[0;32m~/anaconda3/lib/python3.11/site-packages/torchvision/datasets/folder.py:263\u001B[0m, in \u001B[0;36mpil_loader\u001B[0;34m(path)\u001B[0m\n\u001B[1;32m    260\u001B[0m \u001B[38;5;28;01mdef\u001B[39;00m \u001B[38;5;21mpil_loader\u001B[39m(path: \u001B[38;5;28mstr\u001B[39m) \u001B[38;5;241m-\u001B[39m\u001B[38;5;241m>\u001B[39m Image\u001B[38;5;241m.\u001B[39mImage:\n\u001B[1;32m    261\u001B[0m     \u001B[38;5;66;03m# open path as file to avoid ResourceWarning (https://github.com/python-pillow/Pillow/issues/835)\u001B[39;00m\n\u001B[1;32m    262\u001B[0m     \u001B[38;5;28;01mwith\u001B[39;00m \u001B[38;5;28mopen\u001B[39m(path, \u001B[38;5;124m\"\u001B[39m\u001B[38;5;124mrb\u001B[39m\u001B[38;5;124m\"\u001B[39m) \u001B[38;5;28;01mas\u001B[39;00m f:\n\u001B[0;32m--> 263\u001B[0m         img \u001B[38;5;241m=\u001B[39m Image\u001B[38;5;241m.\u001B[39mopen(f)\n\u001B[1;32m    264\u001B[0m         \u001B[38;5;28;01mreturn\u001B[39;00m img\u001B[38;5;241m.\u001B[39mconvert(\u001B[38;5;124m\"\u001B[39m\u001B[38;5;124mRGB\u001B[39m\u001B[38;5;124m\"\u001B[39m)\n",
      "File \u001B[0;32m~/anaconda3/lib/python3.11/site-packages/PIL/Image.py:3256\u001B[0m, in \u001B[0;36mopen\u001B[0;34m(fp, mode, formats)\u001B[0m\n\u001B[1;32m   3253\u001B[0m     fp \u001B[38;5;241m=\u001B[39m io\u001B[38;5;241m.\u001B[39mBytesIO(fp\u001B[38;5;241m.\u001B[39mread())\n\u001B[1;32m   3254\u001B[0m     exclusive_fp \u001B[38;5;241m=\u001B[39m \u001B[38;5;28;01mTrue\u001B[39;00m\n\u001B[0;32m-> 3256\u001B[0m prefix \u001B[38;5;241m=\u001B[39m fp\u001B[38;5;241m.\u001B[39mread(\u001B[38;5;241m16\u001B[39m)\n\u001B[1;32m   3258\u001B[0m preinit()\n\u001B[1;32m   3260\u001B[0m accept_warnings \u001B[38;5;241m=\u001B[39m []\n",
      "\u001B[0;31mKeyboardInterrupt\u001B[0m: "
     ]
    }
   ],
   "execution_count": 15
  },
  {
   "metadata": {
    "ExecuteTime": {
     "end_time": "2024-05-08T11:40:50.359526Z",
     "start_time": "2024-05-08T11:40:50.221714Z"
    }
   },
   "cell_type": "code",
   "source": "plot_loss_curves(train_loss[1:], valid_loss[1:])",
   "outputs": [
    {
     "data": {
      "text/plain": [
       "<Figure size 1000x600 with 1 Axes>"
      ],
      "image/png": "[encoded data removed]"
     },
     "metadata": {},
     "output_type": "display_data"
    }
   ],
   "execution_count": 16
  },
  {
   "metadata": {
    "ExecuteTime": {
     "end_time": "2024-05-08T13:53:43.236808Z",
     "start_time": "2024-05-08T13:53:43.135216Z"
    }
   },
   "cell_type": "code",
   "source": [
    "import datetime, torch\n",
    "timestamp = datetime.datetime.now().strftime(\"%H:%M:%S %Y_%m_%d\")\n",
    "torch.save(model, './models/working_50'+timestamp+'.pth')\n"
   ],
   "outputs": [],
   "execution_count": 127
  },
  {
   "metadata": {
    "ExecuteTime": {
     "end_time": "2024-05-08T14:07:54.873422Z",
     "start_time": "2024-05-08T14:07:49.329588Z"
    }
   },
   "cell_type": "code",
   "source": [
    "# Assuming you have already defined your test data loader `test_loader`\n",
    "import torch\n",
    "# Set the model to evaluation mode\n",
    "model.eval()\n",
    "\n",
    "# Define lists to store predictions and ground truth labels\n",
    "all_outputs = []\n",
    "all_labels = []\n",
    "all_pokemons = []\n",
    "# Iterate over the test data loader\n",
    "for images, pokemons, labels in test_loader:\n",
    "    # Forward pass: Pass the images through the model\n",
    "    with torch.no_grad():\n",
    "        outputs = model(images)\n",
    "    # Apply a threshold (e.g., sigmoid) to convert raw logits to probabilities\n",
    "    \n",
    "\n",
    "    ####################################\n",
    "    # print(outputs.sigmoid())\n",
    "    # print(binary_predictions)\n",
    "    # print(all_zeros_indices)    \n",
    "    \n",
    "    ####################################\n",
    "    # print(predictions)\n",
    "    \n",
    "    # Append predictions and labels to the lists\n",
    "    all_outputs.append(outputs)\n",
    "    all_labels.append(labels)\n",
    "    all_pokemons.append(pokemons)\n",
    "    \n",
    "\n",
    "# Concatenate all the batches together along the batch dimension\n",
    "all_outputs = torch.cat(all_outputs, dim=0)\n",
    "all_labels = torch.cat(all_labels, dim=0)\n",
    "from itertools import chain\n",
    "all_pokemons = list(chain.from_iterable(all_pokemons))\n",
    "\n",
    "def get_predicted_tensor(output):\n",
    "    output_ = output.sigmoid()\n",
    "    # print(\"output_  \",output_)\n",
    "\n",
    "    binary_prediction_ = (output_ > 0.5).int()\n",
    "    # print(\"binary_prediction_  \",binary_prediction_)\n",
    "\n",
    "    all_zeros_indices_ = torch.all(binary_prediction_.bool() == 0)\n",
    "    # print(\"all_zeros_indices_  \",all_zeros_indices_)\n",
    "    \n",
    "    if all_zeros_indices_:\n",
    "        # generate new tesor\n",
    "        max_index = output_.argmax()\n",
    "        new_tensor = torch.zeros_like(binary_prediction_)\n",
    "        new_tensor[max_index] = 1\n",
    "        return new_tensor\n",
    "    else:\n",
    "        return binary_prediction_\n",
    "\n",
    "csv_data = []\n",
    "# \n",
    "# \n",
    "all_predictions = []\n",
    "for pokemon, label, output in zip(all_pokemons, all_labels, all_outputs):\n",
    "    predicted_tensor = get_predicted_tensor(output)\n",
    "    all_predictions.append(predicted_tensor)\n",
    "    # print(\"##################\")\n",
    "    # print(\"Pokemon: \", pokemon)\n",
    "    # print(\"Label_tensor: \", label)\n",
    "    # print(\"Label_name: \", mlb.inverse_transform(tensor([label.tolist()])))\n",
    "    # \n",
    "    # print(\"Predicted_tensor: \", predicted_tensor)\n",
    "    # print(\"Predicted_name: \", mlb.inverse_transform(tensor([predicted_tensor.tolist()])))\n",
    "    # print(\"##################\")\n",
    "    csv_data.append((pokemon, \",\".join(mlb.inverse_transform(tensor([label.tolist()]))[0])))\n",
    "\n",
    "# Calculate accuracy or other metrics\n",
    "# For example, you can use Hamming loss or other metrics from torchmetrics\n",
    "# For Hamming loss, you can use `HammingDistance` from `torchmetrics`\n",
    "hamming_distance = HammingDistance(task='multilabel', num_labels=18)\n",
    "\n",
    "# Calculate Hamming distance\n",
    "stacked_predicted_tensors = torch.stack(all_predictions, dim=0)\n",
    "hamming_loss = hamming_distance(stacked_predicted_tensors, all_labels)\n",
    "\n",
    "\n",
    "\n",
    "print(\"Hamming Loss:\", hamming_loss)\n"
   ],
   "outputs": [
    {
     "name": "stdout",
     "output_type": "stream",
     "text": [
      "Hamming Loss: tensor(0.1133)\n"
     ]
    }
   ],
   "execution_count": 166
  },
  {
   "metadata": {
    "ExecuteTime": {
     "end_time": "2024-05-08T14:07:59.750345Z",
     "start_time": "2024-05-08T14:07:59.736316Z"
    }
   },
   "cell_type": "code",
   "source": [
    "import csv\n",
    "\n",
    "\n",
    "# Define the path to save the CSV file\n",
    "csv_file_path = \"./submission.csv\"\n",
    "\n",
    "# Open the CSV file in write mode\n",
    "with open(csv_file_path, mode='w', newline='') as file:\n",
    "    # Create a CSV writer object\n",
    "    writer = csv.writer(file)\n",
    "    \n",
    "    # Write each row to the CSV file\n",
    "    for row in csv_data:\n",
    "        writer.writerow(row)\n",
    "\n",
    "print(\"CSV file created successfully!\")\n"
   ],
   "outputs": [
    {
     "name": "stdout",
     "output_type": "stream",
     "text": [
      "CSV file created successfully!\n"
     ]
    }
   ],
   "execution_count": 167
  },
  {
   "metadata": {},
   "cell_type": "markdown",
   "source": "# Kindly note that the predictions.CSV file will have each pokemon mentioned twice and that's because each pokemon class folder had 2 images in it. "
  }
 ],
 "metadata": {
  "kernelspec": {
   "display_name": "Python 3",
   "language": "python",
   "name": "python3"
  },
  "language_info": {
   "codemirror_mode": {
    "name": "ipython",
    "version": 3
   },
   "file_extension": ".py",
   "mimetype": "text/x-python",
   "name": "python",
   "nbconvert_exporter": "python",
   "pygments_lexer": "ipython3",
   "version": "3.7.6"
  },
  "papermill": {
   "duration": 308.91998,
   "end_time": "2021-01-24T08:46:27.061332",
   "environment_variables": {},
   "exception": null,
   "input_path": "__notebook__.ipynb",
   "output_path": "__notebook__.ipynb",
   "parameters": {},
   "start_time": "2021-01-24T08:41:18.141352",
   "version": "2.1.0"
  },
  "widgets": {
   "application/vnd.jupyter.widget-state+json": {
    "state": {
     "01854ddcc9624ec2822c40d713db2012": {
      "model_module": "@jupyter-widgets/controls",
      "model_module_version": "1.5.0",
      "model_name": "DescriptionStyleModel",
      "state": {
       "_model_module": "@jupyter-widgets/controls",
       "_model_module_version": "1.5.0",
       "_model_name": "DescriptionStyleModel",
       "_view_count": null,
       "_view_module": "@jupyter-widgets/base",
       "_view_module_version": "1.2.0",
       "_view_name": "StyleView",
       "description_width": ""
      }
     },
     "0877caee2a204dc38b5be2293b122266": {
      "model_module": "@jupyter-widgets/base",
      "model_module_version": "1.2.0",
      "model_name": "LayoutModel",
      "state": {
       "_model_module": "@jupyter-widgets/base",
       "_model_module_version": "1.2.0",
       "_model_name": "LayoutModel",
       "_view_count": null,
       "_view_module": "@jupyter-widgets/base",
       "_view_module_version": "1.2.0",
       "_view_name": "LayoutView",
       "align_content": null,
       "align_items": null,
       "align_self": null,
       "border": null,
       "bottom": null,
       "display": null,
       "flex": null,
       "flex_flow": null,
       "grid_area": null,
       "grid_auto_columns": null,
       "grid_auto_flow": null,
       "grid_auto_rows": null,
       "grid_column": null,
       "grid_gap": null,
       "grid_row": null,
       "grid_template_areas": null,
       "grid_template_columns": null,
       "grid_template_rows": null,
       "height": null,
       "justify_content": null,
       "justify_items": null,
       "left": null,
       "margin": null,
       "max_height": null,
       "max_width": null,
       "min_height": null,
       "min_width": null,
       "object_fit": null,
       "object_position": null,
       "order": null,
       "overflow": null,
       "overflow_x": null,
       "overflow_y": null,
       "padding": null,
       "right": null,
       "top": null,
       "visibility": null,
       "width": null
      }
     },
     "0c71f586e4df4ff6a40e4702c09e8a92": {
      "model_module": "@jupyter-widgets/controls",
      "model_module_version": "1.5.0",
      "model_name": "DescriptionStyleModel",
      "state": {
       "_model_module": "@jupyter-widgets/controls",
       "_model_module_version": "1.5.0",
       "_model_name": "DescriptionStyleModel",
       "_view_count": null,
       "_view_module": "@jupyter-widgets/base",
       "_view_module_version": "1.2.0",
       "_view_name": "StyleView",
       "description_width": ""
      }
     },
     "2a6ca77955124c17ba12c9dd9ebdcd5d": {
      "model_module": "@jupyter-widgets/controls",
      "model_module_version": "1.5.0",
      "model_name": "HBoxModel",
      "state": {
       "_dom_classes": [],
       "_model_module": "@jupyter-widgets/controls",
       "_model_module_version": "1.5.0",
       "_model_name": "HBoxModel",
       "_view_count": null,
       "_view_module": "@jupyter-widgets/controls",
       "_view_module_version": "1.5.0",
       "_view_name": "HBoxView",
       "box_style": "",
       "children": [
        "IPY_MODEL_d17ff96e95a740859a10545d1db44eee",
        "IPY_MODEL_8559b4ab15e6407c90fc7f9fc20c2c57"
       ],
       "layout": "IPY_MODEL_f515871a9d8b41a7819c01b02a9a2a1a"
      }
     },
     "2b08fea7375749379494b49fcec0a808": {
      "model_module": "@jupyter-widgets/controls",
      "model_module_version": "1.5.0",
      "model_name": "FloatProgressModel",
      "state": {
       "_dom_classes": [],
       "_model_module": "@jupyter-widgets/controls",
       "_model_module_version": "1.5.0",
       "_model_name": "FloatProgressModel",
       "_view_count": null,
       "_view_module": "@jupyter-widgets/controls",
       "_view_module_version": "1.5.0",
       "_view_name": "ProgressView",
       "bar_style": "success",
       "description": "100%",
       "description_tooltip": null,
       "layout": "IPY_MODEL_728b2d8cce85491598e37abba1e34b07",
       "max": 303.0,
       "min": 0.0,
       "orientation": "horizontal",
       "style": "IPY_MODEL_7374031d3e154d98a78e6fc2f2540d9b",
       "value": 303.0
      }
     },
     "358924f8339946e786b8232be9887268": {
      "model_module": "@jupyter-widgets/controls",
      "model_module_version": "1.5.0",
      "model_name": "HBoxModel",
      "state": {
       "_dom_classes": [],
       "_model_module": "@jupyter-widgets/controls",
       "_model_module_version": "1.5.0",
       "_model_name": "HBoxModel",
       "_view_count": null,
       "_view_module": "@jupyter-widgets/controls",
       "_view_module_version": "1.5.0",
       "_view_name": "HBoxView",
       "box_style": "",
       "children": [
        "IPY_MODEL_ec368da220ab4671850f851ccf5928bf",
        "IPY_MODEL_906916d050ed4c85b3a4f95770d1ad65"
       ],
       "layout": "IPY_MODEL_5130ef9c89894beeada981775336fa29"
      }
     },
     "3d7e42ea243448db9924661a03c8ca54": {
      "model_module": "@jupyter-widgets/base",
      "model_module_version": "1.2.0",
      "model_name": "LayoutModel",
      "state": {
       "_model_module": "@jupyter-widgets/base",
       "_model_module_version": "1.2.0",
       "_model_name": "LayoutModel",
       "_view_count": null,
       "_view_module": "@jupyter-widgets/base",
       "_view_module_version": "1.2.0",
       "_view_name": "LayoutView",
       "align_content": null,
       "align_items": null,
       "align_self": null,
       "border": null,
       "bottom": null,
       "display": null,
       "flex": null,
       "flex_flow": null,
       "grid_area": null,
       "grid_auto_columns": null,
       "grid_auto_flow": null,
       "grid_auto_rows": null,
       "grid_column": null,
       "grid_gap": null,
       "grid_row": null,
       "grid_template_areas": null,
       "grid_template_columns": null,
       "grid_template_rows": null,
       "height": null,
       "justify_content": null,
       "justify_items": null,
       "left": null,
       "margin": null,
       "max_height": null,
       "max_width": null,
       "min_height": null,
       "min_width": null,
       "object_fit": null,
       "object_position": null,
       "order": null,
       "overflow": null,
       "overflow_x": null,
       "overflow_y": null,
       "padding": null,
       "right": null,
       "top": null,
       "visibility": null,
       "width": null
      }
     },
     "3ed007a640384b50a30cf95d1b24b72d": {
      "model_module": "@jupyter-widgets/controls",
      "model_module_version": "1.5.0",
      "model_name": "HBoxModel",
      "state": {
       "_dom_classes": [],
       "_model_module": "@jupyter-widgets/controls",
       "_model_module_version": "1.5.0",
       "_model_name": "HBoxModel",
       "_view_count": null,
       "_view_module": "@jupyter-widgets/controls",
       "_view_module_version": "1.5.0",
       "_view_name": "HBoxView",
       "box_style": "",
       "children": [
        "IPY_MODEL_2b08fea7375749379494b49fcec0a808",
        "IPY_MODEL_9dea52ff032a4ec5b3e2f6056c44f7c8"
       ],
       "layout": "IPY_MODEL_c2bca25cb4df4007882d1006b76f185e"
      }
     },
     "41f3607a31a44ebf81216ef5cb4fc196": {
      "model_module": "@jupyter-widgets/controls",
      "model_module_version": "1.5.0",
      "model_name": "ProgressStyleModel",
      "state": {
       "_model_module": "@jupyter-widgets/controls",
       "_model_module_version": "1.5.0",
       "_model_name": "ProgressStyleModel",
       "_view_count": null,
       "_view_module": "@jupyter-widgets/base",
       "_view_module_version": "1.2.0",
       "_view_name": "StyleView",
       "bar_color": null,
       "description_width": "initial"
      }
     },
     "5130ef9c89894beeada981775336fa29": {
      "model_module": "@jupyter-widgets/base",
      "model_module_version": "1.2.0",
      "model_name": "LayoutModel",
      "state": {
       "_model_module": "@jupyter-widgets/base",
       "_model_module_version": "1.2.0",
       "_model_name": "LayoutModel",
       "_view_count": null,
       "_view_module": "@jupyter-widgets/base",
       "_view_module_version": "1.2.0",
       "_view_name": "LayoutView",
       "align_content": null,
       "align_items": null,
       "align_self": null,
       "border": null,
       "bottom": null,
       "display": null,
       "flex": null,
       "flex_flow": null,
       "grid_area": null,
       "grid_auto_columns": null,
       "grid_auto_flow": null,
       "grid_auto_rows": null,
       "grid_column": null,
       "grid_gap": null,
       "grid_row": null,
       "grid_template_areas": null,
       "grid_template_columns": null,
       "grid_template_rows": null,
       "height": null,
       "justify_content": null,
       "justify_items": null,
       "left": null,
       "margin": null,
       "max_height": null,
       "max_width": null,
       "min_height": null,
       "min_width": null,
       "object_fit": null,
       "object_position": null,
       "order": null,
       "overflow": null,
       "overflow_x": null,
       "overflow_y": null,
       "padding": null,
       "right": null,
       "top": null,
       "visibility": null,
       "width": null
      }
     },
     "61133c59661e4af087a3410148fe7ac7": {
      "model_module": "@jupyter-widgets/base",
      "model_module_version": "1.2.0",
      "model_name": "LayoutModel",
      "state": {
       "_model_module": "@jupyter-widgets/base",
       "_model_module_version": "1.2.0",
       "_model_name": "LayoutModel",
       "_view_count": null,
       "_view_module": "@jupyter-widgets/base",
       "_view_module_version": "1.2.0",
       "_view_name": "LayoutView",
       "align_content": null,
       "align_items": null,
       "align_self": null,
       "border": null,
       "bottom": null,
       "display": null,
       "flex": null,
       "flex_flow": null,
       "grid_area": null,
       "grid_auto_columns": null,
       "grid_auto_flow": null,
       "grid_auto_rows": null,
       "grid_column": null,
       "grid_gap": null,
       "grid_row": null,
       "grid_template_areas": null,
       "grid_template_columns": null,
       "grid_template_rows": null,
       "height": null,
       "justify_content": null,
       "justify_items": null,
       "left": null,
       "margin": null,
       "max_height": null,
       "max_width": null,
       "min_height": null,
       "min_width": null,
       "object_fit": null,
       "object_position": null,
       "order": null,
       "overflow": null,
       "overflow_x": null,
       "overflow_y": null,
       "padding": null,
       "right": null,
       "top": null,
       "visibility": null,
       "width": null
      }
     },
     "728b2d8cce85491598e37abba1e34b07": {
      "model_module": "@jupyter-widgets/base",
      "model_module_version": "1.2.0",
      "model_name": "LayoutModel",
      "state": {
       "_model_module": "@jupyter-widgets/base",
       "_model_module_version": "1.2.0",
       "_model_name": "LayoutModel",
       "_view_count": null,
       "_view_module": "@jupyter-widgets/base",
       "_view_module_version": "1.2.0",
       "_view_name": "LayoutView",
       "align_content": null,
       "align_items": null,
       "align_self": null,
       "border": null,
       "bottom": null,
       "display": null,
       "flex": null,
       "flex_flow": null,
       "grid_area": null,
       "grid_auto_columns": null,
       "grid_auto_flow": null,
       "grid_auto_rows": null,
       "grid_column": null,
       "grid_gap": null,
       "grid_row": null,
       "grid_template_areas": null,
       "grid_template_columns": null,
       "grid_template_rows": null,
       "height": null,
       "justify_content": null,
       "justify_items": null,
       "left": null,
       "margin": null,
       "max_height": null,
       "max_width": null,
       "min_height": null,
       "min_width": null,
       "object_fit": null,
       "object_position": null,
       "order": null,
       "overflow": null,
       "overflow_x": null,
       "overflow_y": null,
       "padding": null,
       "right": null,
       "top": null,
       "visibility": null,
       "width": null
      }
     },
     "7374031d3e154d98a78e6fc2f2540d9b": {
      "model_module": "@jupyter-widgets/controls",
      "model_module_version": "1.5.0",
      "model_name": "ProgressStyleModel",
      "state": {
       "_model_module": "@jupyter-widgets/controls",
       "_model_module_version": "1.5.0",
       "_model_name": "ProgressStyleModel",
       "_view_count": null,
       "_view_module": "@jupyter-widgets/base",
       "_view_module_version": "1.2.0",
       "_view_name": "StyleView",
       "bar_color": null,
       "description_width": "initial"
      }
     },
     "7cf1e87d614946fcaf036502af50570e": {
      "model_module": "@jupyter-widgets/controls",
      "model_module_version": "1.5.0",
      "model_name": "ProgressStyleModel",
      "state": {
       "_model_module": "@jupyter-widgets/controls",
       "_model_module_version": "1.5.0",
       "_model_name": "ProgressStyleModel",
       "_view_count": null,
       "_view_module": "@jupyter-widgets/base",
       "_view_module_version": "1.2.0",
       "_view_name": "StyleView",
       "bar_color": null,
       "description_width": "initial"
      }
     },
     "7fc05f4fb3e6427596599aadf9934b54": {
      "model_module": "@jupyter-widgets/base",
      "model_module_version": "1.2.0",
      "model_name": "LayoutModel",
      "state": {
       "_model_module": "@jupyter-widgets/base",
       "_model_module_version": "1.2.0",
       "_model_name": "LayoutModel",
       "_view_count": null,
       "_view_module": "@jupyter-widgets/base",
       "_view_module_version": "1.2.0",
       "_view_name": "LayoutView",
       "align_content": null,
       "align_items": null,
       "align_self": null,
       "border": null,
       "bottom": null,
       "display": null,
       "flex": null,
       "flex_flow": null,
       "grid_area": null,
       "grid_auto_columns": null,
       "grid_auto_flow": null,
       "grid_auto_rows": null,
       "grid_column": null,
       "grid_gap": null,
       "grid_row": null,
       "grid_template_areas": null,
       "grid_template_columns": null,
       "grid_template_rows": null,
       "height": null,
       "justify_content": null,
       "justify_items": null,
       "left": null,
       "margin": null,
       "max_height": null,
       "max_width": null,
       "min_height": null,
       "min_width": null,
       "object_fit": null,
       "object_position": null,
       "order": null,
       "overflow": null,
       "overflow_x": null,
       "overflow_y": null,
       "padding": null,
       "right": null,
       "top": null,
       "visibility": null,
       "width": null
      }
     },
     "8559b4ab15e6407c90fc7f9fc20c2c57": {
      "model_module": "@jupyter-widgets/controls",
      "model_module_version": "1.5.0",
      "model_name": "HTMLModel",
      "state": {
       "_dom_classes": [],
       "_model_module": "@jupyter-widgets/controls",
       "_model_module_version": "1.5.0",
       "_model_name": "HTMLModel",
       "_view_count": null,
       "_view_module": "@jupyter-widgets/controls",
       "_view_module_version": "1.5.0",
       "_view_name": "HTMLView",
       "description": "",
       "description_tooltip": null,
       "layout": "IPY_MODEL_61133c59661e4af087a3410148fe7ac7",
       "placeholder": "​",
       "style": "IPY_MODEL_0c71f586e4df4ff6a40e4702c09e8a92",
       "value": " 303/303 [02:24&lt;00:00,  2.10it/s]"
      }
     },
     "906916d050ed4c85b3a4f95770d1ad65": {
      "model_module": "@jupyter-widgets/controls",
      "model_module_version": "1.5.0",
      "model_name": "HTMLModel",
      "state": {
       "_dom_classes": [],
       "_model_module": "@jupyter-widgets/controls",
       "_model_module_version": "1.5.0",
       "_model_name": "HTMLModel",
       "_view_count": null,
       "_view_module": "@jupyter-widgets/controls",
       "_view_module_version": "1.5.0",
       "_view_name": "HTMLView",
       "description": "",
       "description_tooltip": null,
       "layout": "IPY_MODEL_acea9c438b0c49ce926e1b7c848954e9",
       "placeholder": "​",
       "style": "IPY_MODEL_c9398fc1d56b49b6850a527d7a558c8f",
       "value": " 303/303 [02:21&lt;00:00,  2.14it/s]"
      }
     },
     "9dea52ff032a4ec5b3e2f6056c44f7c8": {
      "model_module": "@jupyter-widgets/controls",
      "model_module_version": "1.5.0",
      "model_name": "HTMLModel",
      "state": {
       "_dom_classes": [],
       "_model_module": "@jupyter-widgets/controls",
       "_model_module_version": "1.5.0",
       "_model_name": "HTMLModel",
       "_view_count": null,
       "_view_module": "@jupyter-widgets/controls",
       "_view_module_version": "1.5.0",
       "_view_name": "HTMLView",
       "description": "",
       "description_tooltip": null,
       "layout": "IPY_MODEL_7fc05f4fb3e6427596599aadf9934b54",
       "placeholder": "​",
       "style": "IPY_MODEL_01854ddcc9624ec2822c40d713db2012",
       "value": " 303/303 [01:12&lt;00:00,  4.19it/s]"
      }
     },
     "acea9c438b0c49ce926e1b7c848954e9": {
      "model_module": "@jupyter-widgets/base",
      "model_module_version": "1.2.0",
      "model_name": "LayoutModel",
      "state": {
       "_model_module": "@jupyter-widgets/base",
       "_model_module_version": "1.2.0",
       "_model_name": "LayoutModel",
       "_view_count": null,
       "_view_module": "@jupyter-widgets/base",
       "_view_module_version": "1.2.0",
       "_view_name": "LayoutView",
       "align_content": null,
       "align_items": null,
       "align_self": null,
       "border": null,
       "bottom": null,
       "display": null,
       "flex": null,
       "flex_flow": null,
       "grid_area": null,
       "grid_auto_columns": null,
       "grid_auto_flow": null,
       "grid_auto_rows": null,
       "grid_column": null,
       "grid_gap": null,
       "grid_row": null,
       "grid_template_areas": null,
       "grid_template_columns": null,
       "grid_template_rows": null,
       "height": null,
       "justify_content": null,
       "justify_items": null,
       "left": null,
       "margin": null,
       "max_height": null,
       "max_width": null,
       "min_height": null,
       "min_width": null,
       "object_fit": null,
       "object_position": null,
       "order": null,
       "overflow": null,
       "overflow_x": null,
       "overflow_y": null,
       "padding": null,
       "right": null,
       "top": null,
       "visibility": null,
       "width": null
      }
     },
     "c2bca25cb4df4007882d1006b76f185e": {
      "model_module": "@jupyter-widgets/base",
      "model_module_version": "1.2.0",
      "model_name": "LayoutModel",
      "state": {
       "_model_module": "@jupyter-widgets/base",
       "_model_module_version": "1.2.0",
       "_model_name": "LayoutModel",
       "_view_count": null,
       "_view_module": "@jupyter-widgets/base",
       "_view_module_version": "1.2.0",
       "_view_name": "LayoutView",
       "align_content": null,
       "align_items": null,
       "align_self": null,
       "border": null,
       "bottom": null,
       "display": null,
       "flex": null,
       "flex_flow": null,
       "grid_area": null,
       "grid_auto_columns": null,
       "grid_auto_flow": null,
       "grid_auto_rows": null,
       "grid_column": null,
       "grid_gap": null,
       "grid_row": null,
       "grid_template_areas": null,
       "grid_template_columns": null,
       "grid_template_rows": null,
       "height": null,
       "justify_content": null,
       "justify_items": null,
       "left": null,
       "margin": null,
       "max_height": null,
       "max_width": null,
       "min_height": null,
       "min_width": null,
       "object_fit": null,
       "object_position": null,
       "order": null,
       "overflow": null,
       "overflow_x": null,
       "overflow_y": null,
       "padding": null,
       "right": null,
       "top": null,
       "visibility": null,
       "width": null
      }
     },
     "c9398fc1d56b49b6850a527d7a558c8f": {
      "model_module": "@jupyter-widgets/controls",
      "model_module_version": "1.5.0",
      "model_name": "DescriptionStyleModel",
      "state": {
       "_model_module": "@jupyter-widgets/controls",
       "_model_module_version": "1.5.0",
       "_model_name": "DescriptionStyleModel",
       "_view_count": null,
       "_view_module": "@jupyter-widgets/base",
       "_view_module_version": "1.2.0",
       "_view_name": "StyleView",
       "description_width": ""
      }
     },
     "d17ff96e95a740859a10545d1db44eee": {
      "model_module": "@jupyter-widgets/controls",
      "model_module_version": "1.5.0",
      "model_name": "FloatProgressModel",
      "state": {
       "_dom_classes": [],
       "_model_module": "@jupyter-widgets/controls",
       "_model_module_version": "1.5.0",
       "_model_name": "FloatProgressModel",
       "_view_count": null,
       "_view_module": "@jupyter-widgets/controls",
       "_view_module_version": "1.5.0",
       "_view_name": "ProgressView",
       "bar_style": "success",
       "description": "100%",
       "description_tooltip": null,
       "layout": "IPY_MODEL_3d7e42ea243448db9924661a03c8ca54",
       "max": 303.0,
       "min": 0.0,
       "orientation": "horizontal",
       "style": "IPY_MODEL_7cf1e87d614946fcaf036502af50570e",
       "value": 303.0
      }
     },
     "ec368da220ab4671850f851ccf5928bf": {
      "model_module": "@jupyter-widgets/controls",
      "model_module_version": "1.5.0",
      "model_name": "FloatProgressModel",
      "state": {
       "_dom_classes": [],
       "_model_module": "@jupyter-widgets/controls",
       "_model_module_version": "1.5.0",
       "_model_name": "FloatProgressModel",
       "_view_count": null,
       "_view_module": "@jupyter-widgets/controls",
       "_view_module_version": "1.5.0",
       "_view_name": "ProgressView",
       "bar_style": "success",
       "description": "100%",
       "description_tooltip": null,
       "layout": "IPY_MODEL_0877caee2a204dc38b5be2293b122266",
       "max": 303.0,
       "min": 0.0,
       "orientation": "horizontal",
       "style": "IPY_MODEL_41f3607a31a44ebf81216ef5cb4fc196",
       "value": 303.0
      }
     },
     "f515871a9d8b41a7819c01b02a9a2a1a": {
      "model_module": "@jupyter-widgets/base",
      "model_module_version": "1.2.0",
      "model_name": "LayoutModel",
      "state": {
       "_model_module": "@jupyter-widgets/base",
       "_model_module_version": "1.2.0",
       "_model_name": "LayoutModel",
       "_view_count": null,
       "_view_module": "@jupyter-widgets/base",
       "_view_module_version": "1.2.0",
       "_view_name": "LayoutView",
       "align_content": null,
       "align_items": null,
       "align_self": null,
       "border": null,
       "bottom": null,
       "display": null,
       "flex": null,
       "flex_flow": null,
       "grid_area": null,
       "grid_auto_columns": null,
       "grid_auto_flow": null,
       "grid_auto_rows": null,
       "grid_column": null,
       "grid_gap": null,
       "grid_row": null,
       "grid_template_areas": null,
       "grid_template_columns": null,
       "grid_template_rows": null,
       "height": null,
       "justify_content": null,
       "justify_items": null,
       "left": null,
       "margin": null,
       "max_height": null,
       "max_width": null,
       "min_height": null,
       "min_width": null,
       "object_fit": null,
       "object_position": null,
       "order": null,
       "overflow": null,
       "overflow_x": null,
       "overflow_y": null,
       "padding": null,
       "right": null,
       "top": null,
       "visibility": null,
       "width": null
      }
     }
    },
    "version_major": 2,
    "version_minor": 0
   }
  }
 },
 "nbformat": 4,
 "nbformat_minor": 4
}
