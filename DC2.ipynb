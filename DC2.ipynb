{
 "cells": [
  {
   "cell_type": "code",
   "metadata": {
    "execution": {
     "iopub.execute_input": "2021-01-24T08:41:22.250666Z",
     "iopub.status.busy": "2021-01-24T08:41:22.250126Z",
     "iopub.status.idle": "2021-01-24T08:41:23.779620Z",
     "shell.execute_reply": "2021-01-24T08:41:23.779059Z"
    },
    "papermill": {
     "duration": 1.564224,
     "end_time": "2021-01-24T08:41:23.779739",
     "exception": false,
     "start_time": "2021-01-24T08:41:22.215515",
     "status": "completed"
    },
    "tags": [],
    "ExecuteTime": {
     "end_time": "2024-05-09T04:04:35.761461Z",
     "start_time": "2024-05-09T04:04:33.662306Z"
    }
   },
   "source": [
    "import pandas as pd\n",
    "\n",
    "import torchvision.transforms as transforms\n",
    "import matplotlib.pyplot as plt\n",
    "import re, random\n",
    "from torch import tensor\n",
    "%matplotlib inline"
   ],
   "outputs": [],
   "execution_count": 1
  },
  {
   "cell_type": "code",
   "metadata": {
    "execution": {
     "iopub.execute_input": "2021-01-24T08:41:23.898609Z",
     "iopub.status.busy": "2021-01-24T08:41:23.897874Z",
     "iopub.status.idle": "2021-01-24T08:41:23.900458Z",
     "shell.execute_reply": "2021-01-24T08:41:23.900848Z"
    },
    "papermill": {
     "duration": 0.031072,
     "end_time": "2021-01-24T08:41:23.900950",
     "exception": false,
     "start_time": "2021-01-24T08:41:23.869878",
     "status": "completed"
    },
    "tags": [],
    "ExecuteTime": {
     "end_time": "2024-05-09T04:04:35.771687Z",
     "start_time": "2024-05-09T04:04:35.762326Z"
    }
   },
   "source": "df = pd.read_csv('PokemonStats.csv')",
   "outputs": [],
   "execution_count": 2
  },
  {
   "metadata": {},
   "cell_type": "markdown",
   "source": "## Helper functions below"
  },
  {
   "cell_type": "code",
   "metadata": {
    "execution": {
     "iopub.execute_input": "2021-01-24T08:41:24.011618Z",
     "iopub.status.busy": "2021-01-24T08:41:24.010939Z",
     "iopub.status.idle": "2021-01-24T08:41:24.013463Z",
     "shell.execute_reply": "2021-01-24T08:41:24.013871Z"
    },
    "papermill": {
     "duration": 0.032567,
     "end_time": "2021-01-24T08:41:24.013965",
     "exception": false,
     "start_time": "2021-01-24T08:41:23.981398",
     "status": "completed"
    },
    "tags": [],
    "ExecuteTime": {
     "end_time": "2024-05-09T04:04:35.775508Z",
     "start_time": "2024-05-09T04:04:35.772216Z"
    }
   },
   "source": [
    "def get_type_using_pokemon_name(pokemon):\n",
    "    \"\"\"\n",
    "    Takes a pokemon class name and returns the type of pokemon after lookup from the PokemonStats csv\n",
    "    \n",
    "    Returns None if pokemon not found in PokemonStats csv\n",
    "    :param pokemon: \n",
    "    :return: \n",
    "    \"\"\"\n",
    "    row = df[df['Pokemon'] == pokemon]['Type']\n",
    "\n",
    "    if len(row):\n",
    "        return row.values[0].split(', ')\n",
    "    return None\n",
    "\n",
    "def imshow(img):\n",
    "    \"\"\"\n",
    "    Displays the image\n",
    "    :param img: \n",
    "    :return: \n",
    "    \"\"\"\n",
    "    plt.imshow(np.transpose(img/2+0.5, (1, 2, 0)))\n",
    "    \n",
    "\n",
    "def plot_loss_curves(train_losses, valid_losses):\n",
    "    \"\"\"\n",
    "    Plot the loss curves for both training and validation sets.\n",
    "    \n",
    "    Args:\n",
    "        train_losses (list): List of training losses across epochs.\n",
    "        valid_losses (list): List of validation losses across epochs.\n",
    "    \"\"\"\n",
    "    epochs = range(1, len(train_losses) + 1)\n",
    "    \n",
    "    plt.figure(figsize=(10, 6))\n",
    "    plt.plot(epochs, train_losses, label='Training Loss')\n",
    "    plt.plot(epochs, valid_losses, label='Validation Loss')\n",
    "    \n",
    "    plt.title('Loss Curves', fontsize=16)\n",
    "    plt.xlabel('Epoch', fontsize=14)\n",
    "    plt.ylabel('Loss', fontsize=14)\n",
    "    plt.legend()\n",
    "    plt.grid()\n",
    "    plt.show()\n",
    "    \n",
    "\n",
    "def keep_alpha_chars(input_string):\n",
    "    \"\"\"\n",
    "    Keeps only alphanumeric characters.\n",
    "    :param input_string: \n",
    "    :return: \n",
    "    \"\"\"\n",
    "    # Using regular expression to remove non-alphabetic characters\n",
    "    return re.sub(r'[^a-zA-Z\\s\\-.\\'\"]', '', input_string)\n",
    "\n",
    "def get_random_label_vector(mlb, classes):\n",
    "    \"\"\"\n",
    "    Generates a random label vector\n",
    "    :param mlb: \n",
    "    :param classes: \n",
    "    :return: \n",
    "    \"\"\"\n",
    "    random_number = random.randint(0, 17)\n",
    "    return mlb.transform([classes[random_number]])[0]\n",
    "\n",
    "def tensor_to_label(mlb, t):\n",
    "    \"\"\"\n",
    "    Used to inverse transform a tensor to a label string\n",
    "    :param mlb: \n",
    "    :param t: \n",
    "    :return: \n",
    "    \"\"\"\n",
    "    payload = tensor([t.tolist()])\n",
    "    return \",\".join(mlb.inverse_transform(payload)[0])\n",
    "\n",
    "\n"
   ],
   "execution_count": 3,
   "outputs": []
  },
  {
   "metadata": {},
   "cell_type": "markdown",
   "source": "### Multi label binarizer implementation"
  },
  {
   "metadata": {
    "ExecuteTime": {
     "end_time": "2024-05-09T06:50:08.733411Z",
     "start_time": "2024-05-09T06:50:08.718141Z"
    }
   },
   "cell_type": "code",
   "source": [
    "# Generates all the possible classes from thr Pokemon Types in the CSV\n",
    "classes = list(set([tt for typex in list(df['Type']) for tt in typex.split(\", \")]))\n",
    "print(\"Pokemon classes:\",classes)\n",
    "classes = [[c] for c in classes]\n",
    "from sklearn.preprocessing import MultiLabelBinarizer\n",
    "mlb = MultiLabelBinarizer()\n",
    "mlb.fit(classes)\n",
    "\n",
    "temp = mlb.transform([[\"Ice\", \"Fire\",]])\n",
    "print(\"Eg. Encoded = \", temp)\n",
    "\n",
    "decoded = mlb.inverse_transform(temp)\n",
    "print(\"Eg. Decoded = \",decoded)"
   ],
   "outputs": [
    {
     "name": "stdout",
     "output_type": "stream",
     "text": [
      "Pokemon classes: ['Rock', 'Ghost', 'Psychic', 'Poison', 'Fire', 'Water', 'Fighting', 'Grass', 'Fairy', 'Dark', 'Steel', 'Normal', 'Bug', 'Electric', 'Dragon', 'Flying', 'Ice', 'Ground']\n",
      "Eg. Encoded =  [[0 0 0 0 0 0 1 0 0 0 0 1 0 0 0 0 0 0]]\n",
      "Eg. Decoded =  [('Fire', 'Ice')]\n"
     ]
    }
   ],
   "execution_count": 83
  },
  {
   "metadata": {
    "ExecuteTime": {
     "end_time": "2024-05-09T04:04:36.200320Z",
     "start_time": "2024-05-09T04:04:36.197180Z"
    }
   },
   "cell_type": "code",
   "source": [
    "# Defining the custom image dataset\n",
    "from torchvision.datasets import ImageFolder\n",
    "class CustomImageDataset(ImageFolder):\n",
    "    def __init__(self, root, transform=None):\n",
    "        self.root_dir = root\n",
    "        self.transform = transform\n",
    "        self.present = 0\n",
    "        self.absent = 0\n",
    "        super().__init__(self.root_dir, self.transform)\n",
    "    \n",
    "    def __len__(self):\n",
    "        return len(self.samples)\n",
    "    \n",
    "    def __getitem__(self, index):\n",
    "        path, target = self.samples[index]\n",
    "        sample = self.loader(path)\n",
    "        if self.transform is not None:\n",
    "            sample = self.transform(sample)\n",
    "\n",
    "        pokemon = self.samples[index][0].split('/')[1] # get the name of the pokemon\n",
    "        filename = self.samples[index][0].split('/')[2] # get the file name of the pokemon\n",
    "        label = get_type_using_pokemon_name(keep_alpha_chars(pokemon))\n",
    "        if label is None:\n",
    "            return sample, filename, get_random_label_vector(mlb, classes)\n",
    "            # return None, None\n",
    "        return sample, pokemon, mlb.transform([label])[0]"
   ],
   "outputs": [],
   "execution_count": 5
  },
  {
   "metadata": {},
   "cell_type": "markdown",
   "source": "## generating the custom datasets from the Imagefodler\n"
  },
  {
   "cell_type": "code",
   "metadata": {
    "execution": {
     "iopub.execute_input": "2021-01-24T08:41:24.126037Z",
     "iopub.status.busy": "2021-01-24T08:41:24.125372Z",
     "iopub.status.idle": "2021-01-24T08:41:24.128164Z",
     "shell.execute_reply": "2021-01-24T08:41:24.127750Z"
    },
    "papermill": {
     "duration": 0.032612,
     "end_time": "2021-01-24T08:41:24.128254",
     "exception": false,
     "start_time": "2021-01-24T08:41:24.095642",
     "status": "completed"
    },
    "tags": [],
    "ExecuteTime": {
     "end_time": "2024-05-09T05:25:11.790832Z",
     "start_time": "2024-05-09T05:25:11.676874Z"
    }
   },
   "source": [
    "### Specify the Train and Test directories\n",
    "train_dir = \"TrainImages\"\n",
    "test_dir = \"TestImages\"\n",
    "\n",
    "pokemon_transform = transforms.Compose([\n",
    "    transforms.Resize((64, 64)),  # Increase image size for better feature extraction\n",
    "    transforms.RandomRotation(10),   # Randomly rotate images to augment dataset\n",
    "    transforms.RandomHorizontalFlip(),  # Randomly flip images horizontally to augment dataset\n",
    "    transforms.ColorJitter(brightness=0.2, contrast=0.2, saturation=0.2, hue=0.1),  # Adjust brightness, contrast, saturation, and hue\n",
    "    transforms.ToTensor(),\n",
    "    transforms.Normalize(mean=[0.5, 0.5, 0.5], std=[0.5, 0.5, 0.5])  \n",
    "])\n",
    "\n",
    "train_data = CustomImageDataset(root=train_dir, transform=pokemon_transform)\n",
    "test_data = CustomImageDataset(root=test_dir, transform=pokemon_transform)\n"
   ],
   "outputs": [],
   "execution_count": 21
  },
  {
   "metadata": {
    "ExecuteTime": {
     "end_time": "2024-05-09T05:25:13.469867Z",
     "start_time": "2024-05-09T05:25:13.365687Z"
    }
   },
   "cell_type": "code",
   "source": [
    "# Split train into train/validation (USING ONLY POKEMONS PRESENT IN THE CSV)\n",
    "\n",
    "import numpy as np\n",
    "\n",
    "present_indices = [] # This will hold the indices of only those pokemon which are present in the csv as well as training folder(image)\n",
    "\n",
    "for i,c in enumerate(train_data.classes):\n",
    "    if get_type_using_pokemon_name(keep_alpha_chars(c)): # using only CSV present pokemons for training for now.\n",
    "        present_indices.append(i) # appending csv present pookemons in the list.\n",
    "        \n",
    "valid_size = 0.2 # specifying validation ratio\n",
    "num_train = len(present_indices)\n",
    "indices = present_indices\n",
    "np.random.shuffle(indices)\n",
    "split = int(np.floor(num_train * valid_size))\n",
    "train_indices = indices[split:]\n",
    "valid_indices = indices[:split]"
   ],
   "outputs": [],
   "execution_count": 22
  },
  {
   "cell_type": "code",
   "metadata": {
    "execution": {
     "iopub.execute_input": "2021-01-24T08:41:30.213793Z",
     "iopub.status.busy": "2021-01-24T08:41:30.212786Z",
     "iopub.status.idle": "2021-01-24T08:41:30.215324Z",
     "shell.execute_reply": "2021-01-24T08:41:30.214536Z"
    },
    "papermill": {
     "duration": 0.076778,
     "end_time": "2021-01-24T08:41:30.215451",
     "exception": false,
     "start_time": "2021-01-24T08:41:30.138673",
     "status": "completed"
    },
    "tags": [],
    "ExecuteTime": {
     "end_time": "2024-05-09T05:25:15.028377Z",
     "start_time": "2024-05-09T05:25:15.021249Z"
    }
   },
   "source": [
    "# Using subset randomsampler to use the index to form sampler\n",
    "from torch.utils.data.sampler import SubsetRandomSampler\n",
    "\n",
    "train_sampler = SubsetRandomSampler(train_indices)\n",
    "valid_sampler = SubsetRandomSampler(valid_indices)\n"
   ],
   "outputs": [],
   "execution_count": 23
  },
  {
   "metadata": {},
   "cell_type": "markdown",
   "source": ""
  },
  {
   "metadata": {
    "ExecuteTime": {
     "end_time": "2024-05-09T05:25:16.046813Z",
     "start_time": "2024-05-09T05:25:16.042339Z"
    }
   },
   "cell_type": "code",
   "source": [
    "# Using randomsampler to generrate Dataloaders\n",
    "from torch.utils.data import DataLoader\n",
    "train_loader = DataLoader(train_data, batch_size=32, sampler=train_sampler)\n",
    "valid_loader = DataLoader(train_data, batch_size=32, sampler=valid_sampler)\n",
    "test_loader = DataLoader(test_data, batch_size=32)\n"
   ],
   "outputs": [],
   "execution_count": 24
  },
  {
   "metadata": {},
   "cell_type": "markdown",
   "source": "## Check or visualize sample data from train_loader\n"
  },
  {
   "metadata": {
    "ExecuteTime": {
     "end_time": "2024-05-09T05:25:25.476559Z",
     "start_time": "2024-05-09T05:25:25.219214Z"
    }
   },
   "cell_type": "code",
   "source": [
    "# Check visualize sample data from train_loader\n",
    "dataiter = iter(train_loader)\n",
    "images, pokemon, labels = next(dataiter)\n",
    "\n",
    "print(\"Pokemon: \", pokemon[0])\n",
    "# for index in np.arange(32):\n",
    "print(\"Y: \", labels[0])\n",
    "\n",
    "\n",
    "# print(\"Label: \", mlb.inverse_transform(tensor([labels[0]])))\n",
    "imshow(images[0])\n"
   ],
   "outputs": [
    {
     "name": "stdout",
     "output_type": "stream",
     "text": [
      "Pokemon:  Arrokuda\n",
      "Y:  tensor([0, 0, 0, 0, 0, 0, 0, 0, 0, 0, 0, 0, 0, 0, 0, 0, 0, 1])\n"
     ]
    },
    {
     "name": "stderr",
     "output_type": "stream",
     "text": [
      "Clipping input data to the valid range for imshow with RGB data ([0..1] for floats or [0..255] for integers).\n"
     ]
    },
    {
     "data": {
      "text/plain": [
       "<Figure size 640x480 with 1 Axes>"
      ],
      "image/png": "[encoded data removed]"
     },
     "metadata": {},
     "output_type": "display_data"
    }
   ],
   "execution_count": 32
  },
  {
   "metadata": {},
   "cell_type": "markdown",
   "source": "# Defining our Pokemon CNN model"
  },
  {
   "metadata": {
    "ExecuteTime": {
     "end_time": "2024-05-09T05:25:51.665522Z",
     "start_time": "2024-05-09T05:25:51.652479Z"
    }
   },
   "cell_type": "code",
   "source": [
    "import torch.nn as nn\n",
    "\n",
    "class PokemonTypeCNN(nn.Module):\n",
    "    def __init__(self, num_pokemon_types):\n",
    "        super(PokemonTypeCNN, self).__init__()\n",
    "        self.features = nn.Sequential(\n",
    "            nn.Conv2d(3, 64, kernel_size=3, stride=1, padding=1),\n",
    "            nn.ReLU(inplace=True),\n",
    "            nn.MaxPool2d(kernel_size=2, stride=2),\n",
    "            nn.Conv2d(64, 128, kernel_size=3, stride=1, padding=1),\n",
    "            nn.ReLU(inplace=True),\n",
    "            nn.MaxPool2d(kernel_size=2, stride=2),\n",
    "            nn.Conv2d(128, 256, kernel_size=3, stride=1, padding=1),\n",
    "            nn.ReLU(inplace=True),\n",
    "            nn.MaxPool2d(kernel_size=2, stride=2)\n",
    "        )\n",
    "        self.classifier = nn.Sequential(\n",
    "            # nn.Dropout(p=0.5),\n",
    "            nn.Linear(256 * 8 * 8, 512), \n",
    "            nn.ReLU(inplace=True),\n",
    "            # nn.Dropout(p=0.5),\n",
    "            nn.Linear(512, num_pokemon_types) # num_pokemon_types is 18\n",
    "        )\n",
    "\n",
    "    def forward(self, x):\n",
    "        x = self.features(x)\n",
    "        x = x.view(x.size(0), -1)\n",
    "        x = self.classifier(x)\n",
    "        return x\n"
   ],
   "outputs": [],
   "execution_count": 33
  },
  {
   "metadata": {
    "ExecuteTime": {
     "end_time": "2024-05-09T05:26:43.142729Z",
     "start_time": "2024-05-09T05:26:43.091737Z"
    }
   },
   "cell_type": "code",
   "source": [
    "model = PokemonTypeCNN(len(mlb.classes_))\n",
    "model"
   ],
   "outputs": [
    {
     "data": {
      "text/plain": [
       "PokemonTypeCNN(\n",
       "  (features): Sequential(\n",
       "    (0): Conv2d(3, 64, kernel_size=(3, 3), stride=(1, 1), padding=(1, 1))\n",
       "    (1): ReLU(inplace=True)\n",
       "    (2): MaxPool2d(kernel_size=2, stride=2, padding=0, dilation=1, ceil_mode=False)\n",
       "    (3): Conv2d(64, 128, kernel_size=(3, 3), stride=(1, 1), padding=(1, 1))\n",
       "    (4): ReLU(inplace=True)\n",
       "    (5): MaxPool2d(kernel_size=2, stride=2, padding=0, dilation=1, ceil_mode=False)\n",
       "    (6): Conv2d(128, 256, kernel_size=(3, 3), stride=(1, 1), padding=(1, 1))\n",
       "    (7): ReLU(inplace=True)\n",
       "    (8): MaxPool2d(kernel_size=2, stride=2, padding=0, dilation=1, ceil_mode=False)\n",
       "  )\n",
       "  (classifier): Sequential(\n",
       "    (0): Dropout(p=0.5, inplace=False)\n",
       "    (1): Linear(in_features=16384, out_features=512, bias=True)\n",
       "    (2): ReLU(inplace=True)\n",
       "    (3): Dropout(p=0.5, inplace=False)\n",
       "    (4): Linear(in_features=512, out_features=18, bias=True)\n",
       "  )\n",
       ")"
      ]
     },
     "execution_count": 35,
     "metadata": {},
     "output_type": "execute_result"
    }
   ],
   "execution_count": 35
  },
  {
   "metadata": {},
   "cell_type": "markdown",
   "source": "## Setting the loss function and optimizer"
  },
  {
   "metadata": {
    "ExecuteTime": {
     "end_time": "2024-05-09T05:26:48.162916Z",
     "start_time": "2024-05-09T05:26:48.157048Z"
    }
   },
   "cell_type": "code",
   "source": [
    "import torch.optim as optim\n",
    "from torchmetrics.classification import HammingDistance\n",
    "\n",
    "criterion = nn.BCEWithLogitsLoss()\n",
    "optimizer = optim.Adam(model.parameters(), lr=0.001)\n"
   ],
   "outputs": [],
   "execution_count": 37
  },
  {
   "metadata": {},
   "cell_type": "markdown",
   "source": "## Train the model"
  },
  {
   "metadata": {
    "ExecuteTime": {
     "end_time": "2024-05-09T05:38:00.408336Z",
     "start_time": "2024-05-09T05:26:54.667065Z"
    }
   },
   "cell_type": "code",
   "source": [
    "epochs = 60\n",
    "\n",
    "train_loss = []\n",
    "valid_loss = []\n",
    "\n",
    "for epoch in range(epochs):\n",
    "    epoch_train_loss = 0.\n",
    "    model.train()\n",
    "    for data, pokemon, target in train_loader:\n",
    "        \n",
    "        \n",
    "        # print(data, target)\n",
    "        optimizer.zero_grad()\n",
    "        output = model(data)\n",
    "        target = target.float()  # Convert target labels to torch.float32\n",
    "        loss = criterion(output, target)\n",
    "        loss.backward()\n",
    "        optimizer.step()\n",
    "        epoch_train_loss += loss.item() * data.size(0)\n",
    "    train_loss.append(epoch_train_loss/len(train_data))\n",
    "    model.eval()\n",
    "\n",
    "    epoch_valid_loss = 0.\n",
    "    for data,pokemon, target in valid_loader:\n",
    "        output = model(data)\n",
    "        target = target.float()  # Convert target labels to torch.float32\n",
    "        loss = criterion(output, target)\n",
    "\n",
    "        epoch_valid_loss += loss.item() * data.size(0)\n",
    "    valid_loss.append(epoch_valid_loss / 1000.)\n",
    "    \n",
    "    print('Epoch', epoch, 'losses:', train_loss[-1], valid_loss[-1])"
   ],
   "outputs": [
    {
     "name": "stdout",
     "output_type": "stream",
     "text": [
      "Epoch 0 losses: 0.1208077393456575 0.05144383001327515\n",
      "Epoch 1 losses: 0.10891965815731064 0.0494187912940979\n",
      "Epoch 2 losses: 0.10509800826603512 0.048728423476219175\n",
      "Epoch 3 losses: 0.10375765564244248 0.04793541514873505\n",
      "Epoch 4 losses: 0.1020221996357356 0.04747786569595337\n",
      "Epoch 5 losses: 0.10068063531656685 0.0472970689535141\n",
      "Epoch 6 losses: 0.0991890210369348 0.046745119214057926\n",
      "Epoch 7 losses: 0.09727794142826549 0.04629079025983811\n",
      "Epoch 8 losses: 0.09397284578789705 0.04622913086414337\n",
      "Epoch 9 losses: 0.09200736207094833 0.04497050416469574\n",
      "Epoch 10 losses: 0.09112549904319975 0.04434652757644653\n",
      "Epoch 11 losses: 0.09091809265456109 0.044956819176673886\n",
      "Epoch 12 losses: 0.08812606459643606 0.04429759865999222\n",
      "Epoch 13 losses: 0.08586678985092375 0.0430342446565628\n",
      "Epoch 14 losses: 0.08246993063412122 0.04417887949943543\n",
      "Epoch 15 losses: 0.08107654650381277 0.044444913923740385\n",
      "Epoch 16 losses: 0.07654424033574839 0.04231662803888321\n",
      "Epoch 17 losses: 0.07436517282414486 0.04216936230659485\n",
      "Epoch 18 losses: 0.07328543582427427 0.04257679969072342\n",
      "Epoch 19 losses: 0.06782259609339372 0.040573130309581755\n",
      "Epoch 20 losses: 0.06784711401729963 0.041822031080722806\n",
      "Epoch 21 losses: 0.06449646861204561 0.04034931349754334\n",
      "Epoch 22 losses: 0.06122786992969503 0.04038283514976501\n",
      "Epoch 23 losses: 0.060324559944918074 0.037299631476402285\n",
      "Epoch 24 losses: 0.05790495608525206 0.037333172619342804\n",
      "Epoch 25 losses: 0.056095644527073926 0.03872440528869629\n",
      "Epoch 26 losses: 0.05367172823387122 0.03773212242126465\n",
      "Epoch 27 losses: 0.053240673354899105 0.03920312643051147\n",
      "Epoch 28 losses: 0.04715616876099345 0.035582725167274475\n",
      "Epoch 29 losses: 0.046435442512983795 0.03854238736629486\n",
      "Epoch 30 losses: 0.046517578584280656 0.03489512747526169\n",
      "Epoch 31 losses: 0.04367473822251056 0.034510121047496796\n",
      "Epoch 32 losses: 0.044335281527142355 0.0333632749915123\n",
      "Epoch 33 losses: 0.04003881222609454 0.034126139342784884\n",
      "Epoch 34 losses: 0.04027555004715045 0.034355221033096316\n",
      "Epoch 35 losses: 0.03911334656538203 0.03430341857671738\n",
      "Epoch 36 losses: 0.038052853684973915 0.03549161958694458\n",
      "Epoch 37 losses: 0.03653746368890663 0.034474418520927426\n",
      "Epoch 38 losses: 0.03433694290992974 0.03237929421663284\n",
      "Epoch 39 losses: 0.034288807633475436 0.035881721138954166\n",
      "Epoch 40 losses: 0.03433755636059013 0.0329860326051712\n",
      "Epoch 41 losses: 0.035073589447659266 0.03223164266347885\n",
      "Epoch 42 losses: 0.03388660347803771 0.03398729872703552\n",
      "Epoch 43 losses: 0.03244764966581727 0.03061963188648224\n",
      "Epoch 44 losses: 0.029599744322821028 0.03264262008666992\n",
      "Epoch 45 losses: 0.03117199931528021 0.034705604672431944\n",
      "Epoch 46 losses: 0.030676174397332362 0.03153734177350998\n",
      "Epoch 47 losses: 0.028188873843858077 0.034782300651073454\n",
      "Epoch 48 losses: 0.029853463075289688 0.030732649683952333\n",
      "Epoch 49 losses: 0.027931989894972906 0.031179417490959167\n",
      "Epoch 50 losses: 0.027163417857585463 0.030930509686470032\n",
      "Epoch 51 losses: 0.024690226999265718 0.03161640778183937\n",
      "Epoch 52 losses: 0.025599447651073116 0.02778358328342438\n",
      "Epoch 53 losses: 0.02615659011516181 0.030713815808296203\n",
      "Epoch 54 losses: 0.02734828568151537 0.028920436561107637\n",
      "Epoch 55 losses: 0.025092634452463947 0.030077531576156617\n",
      "Epoch 56 losses: 0.024944846781919588 0.030838336497545242\n",
      "Epoch 57 losses: 0.025596926098131034 0.03218752020597458\n",
      "Epoch 58 losses: 0.02517394735956217 0.029979237794876098\n",
      "Epoch 59 losses: 0.02588364276527359 0.030041109442710875\n"
     ]
    }
   ],
   "execution_count": 38
  },
  {
   "metadata": {
    "ExecuteTime": {
     "end_time": "2024-05-09T05:39:18.699275Z",
     "start_time": "2024-05-09T05:39:18.583948Z"
    }
   },
   "cell_type": "code",
   "source": "plot_loss_curves(train_loss, valid_loss)",
   "outputs": [
    {
     "data": {
      "text/plain": [
       "<Figure size 1000x600 with 1 Axes>"
      ],
      "image/png": "[encoded data removed]"
     },
     "metadata": {},
     "output_type": "display_data"
    }
   ],
   "execution_count": 39
  },
  {
   "metadata": {},
   "cell_type": "markdown",
   "source": "## To save the Pokemon Model"
  },
  {
   "metadata": {
    "ExecuteTime": {
     "end_time": "2024-05-09T05:43:18.357270Z",
     "start_time": "2024-05-09T05:43:18.250849Z"
    }
   },
   "cell_type": "code",
   "source": [
    "import datetime, torch\n",
    "timestamp = datetime.datetime.now().strftime(\"%H:%M:%S %Y_%m_%d\")\n",
    "# torch.save(model, './models/final_model_'+str(epochs)+'.pth')\n"
   ],
   "outputs": [],
   "execution_count": 46
  },
  {
   "metadata": {},
   "cell_type": "markdown",
   "source": "# Perform hamming loss and other metrics (Consolidating predictions for csv writing)"
  },
  {
   "metadata": {
    "ExecuteTime": {
     "end_time": "2024-05-09T05:41:40.271901Z",
     "start_time": "2024-05-09T05:41:35.506636Z"
    }
   },
   "cell_type": "code",
   "source": [
    "# Assuming you have already defined your test data loader `test_loader`\n",
    "import torch\n",
    "# Set the model to evaluation mode\n",
    "model.eval()\n",
    "\n",
    "# Define lists to store predictions and ground truth labels\n",
    "all_outputs = []\n",
    "all_labels = []\n",
    "all_pokemons = []\n",
    "# Iterate over the test data loader\n",
    "for images, pokemons, labels in test_loader:\n",
    "    # Forward pass: Pass the images through the model\n",
    "    with torch.no_grad():\n",
    "        outputs = model(images)\n",
    "    # Apply a threshold (e.g., sigmoid) to convert raw logits to probabilities\n",
    "\n",
    "    ####################################\n",
    "    # print(outputs.sigmoid())\n",
    "    # print(binary_predictions)\n",
    "    # print(all_zeros_indices)    \n",
    "    \n",
    "    ####################################\n",
    "    # print(predictions)\n",
    "    \n",
    "    # Append predictions and labels to the lists\n",
    "    all_outputs.append(outputs)\n",
    "    all_labels.append(labels)\n",
    "    all_pokemons.append(pokemons)\n",
    "    \n",
    "\n",
    "# Concatenate all the batches together along the batch dimension\n",
    "all_outputs = torch.cat(all_outputs, dim=0)\n",
    "all_labels = torch.cat(all_labels, dim=0)\n",
    "from itertools import chain\n",
    "all_pokemons = list(chain.from_iterable(all_pokemons))\n",
    "\n",
    "def get_predicted_tensor(output):\n",
    "    output_ = output.sigmoid()\n",
    "    # print(\"output_  \",output_)\n",
    "\n",
    "    binary_prediction_ = (output > 0.6).int()\n",
    "    # print(\"binary_prediction_  \",binary_prediction_)\n",
    "\n",
    "    all_zeros_indices_ = torch.all(binary_prediction_.bool() == 0)\n",
    "    # print(\"all_zeros_indices_  \",all_zeros_indices_)\n",
    "    \n",
    "    if all_zeros_indices_:\n",
    "        # generate new tesor\n",
    "        max_index = output_.argmax()\n",
    "        new_tensor = torch.zeros_like(binary_prediction_)\n",
    "        new_tensor[max_index] = 1\n",
    "        return new_tensor\n",
    "    else:\n",
    "        return binary_prediction_\n",
    "\n",
    "csv_data  = []\n",
    "\n",
    "all_prediction_tensors = []\n",
    "for pokemon, label, output in zip(all_pokemons, all_labels, all_outputs):\n",
    "    \n",
    "    predicted_tensor = get_predicted_tensor(output)\n",
    "    predicted_label = tensor_to_label(mlb,predicted_tensor)\n",
    "\n",
    "    all_prediction_tensors.append(predicted_tensor)\n",
    "    \n",
    "    # print(\"##################\")\n",
    "    # print(\"Pokemon: \", pokemon)\n",
    "    # print(\"Label_tensor: \", label)\n",
    "    # print(\"Label_name: \", tensor_to_label(mlb, label))\n",
    "    # \n",
    "    # print(\"Predicted_tensor: \", predicted_tensor)\n",
    "    # print(\"Predicted_name: \", predicted_label)\n",
    "    # print(\"##################\")\n",
    "    csv_data.append((pokemon, predicted_label))\n",
    "\n",
    "# Calculate accuracy or other metrics\n",
    "# For example, you can use Hamming loss or other metrics from torchmetrics\n",
    "# For Hamming loss, you can use `HammingDistance` from `torchmetrics`\n",
    "hamming_distance = HammingDistance(task='multilabel', num_labels=18)\n",
    "\n",
    "# Calculate Hamming distance\n",
    "stacked_predicted_tensors = torch.stack(all_prediction_tensors, dim=0)\n",
    "hamming_loss = hamming_distance(stacked_predicted_tensors, all_labels)\n",
    "\n",
    "print(\"Hamming loss: \", hamming_loss)\n"
   ],
   "outputs": [
    {
     "name": "stdout",
     "output_type": "stream",
     "text": [
      "Hamming loss:  tensor(0.1040)\n"
     ]
    }
   ],
   "execution_count": 44
  },
  {
   "metadata": {},
   "cell_type": "markdown",
   "source": "## (Optional) Model to load from a dumped model"
  },
  {
   "metadata": {},
   "cell_type": "code",
   "source": [
    "\n",
    "# import torch\n",
    "# import io\n",
    "# \n",
    "# # Load the model\n",
    "# model_path = './models/working_50_128dim'  + '.pth'\n",
    "# with open(model_path, 'rb') as f:\n",
    "#     buffer = io.BytesIO(f.read())\n",
    "# \n",
    "# model = torch.load(buffer)\n"
   ],
   "outputs": [],
   "execution_count": null
  },
  {
   "metadata": {},
   "cell_type": "markdown",
   "source": "## Write to submission.csv"
  },
  {
   "metadata": {
    "ExecuteTime": {
     "end_time": "2024-05-09T05:41:51.962262Z",
     "start_time": "2024-05-09T05:41:51.953927Z"
    }
   },
   "cell_type": "code",
   "source": [
    "import csv\n",
    "\n",
    "\n",
    "# Define the path to save the CSV file\n",
    "csv_file_path = \"./submission.csv\"\n",
    "\n",
    "# Open the CSV file in write mode\n",
    "with open(csv_file_path, mode='w', newline='') as file:\n",
    "    # Create a CSV writer object\n",
    "    writer = csv.writer(file)\n",
    "    \n",
    "    # Write each row to the CSV file\n",
    "    for row in csv_data:\n",
    "        writer.writerow(row)\n",
    "\n",
    "print(\"CSV file created successfully!\")\n"
   ],
   "outputs": [
    {
     "name": "stdout",
     "output_type": "stream",
     "text": [
      "CSV file created successfully!\n"
     ]
    }
   ],
   "execution_count": 45
  },
  {
   "metadata": {},
   "cell_type": "markdown",
   "source": "### THe final hamming distances comes out to be `0.1040` after several hit and trial combinations on neural network config and trying various optimizers and loss criterions."
  }
 ],
 "metadata": {
  "kernelspec": {
   "display_name": "Python 3",
   "language": "python",
   "name": "python3"
  },
  "language_info": {
   "codemirror_mode": {
    "name": "ipython",
    "version": 3
   },
   "file_extension": ".py",
   "mimetype": "text/x-python",
   "name": "python",
   "nbconvert_exporter": "python",
   "pygments_lexer": "ipython3",
   "version": "3.7.6"
  },
  "papermill": {
   "duration": 308.91998,
   "end_time": "2021-01-24T08:46:27.061332",
   "environment_variables": {},
   "exception": null,
   "input_path": "__notebook__.ipynb",
   "output_path": "__notebook__.ipynb",
   "parameters": {},
   "start_time": "2021-01-24T08:41:18.141352",
   "version": "2.1.0"
  },
  "widgets": {
   "application/vnd.jupyter.widget-state+json": {
    "state": {
     "01854ddcc9624ec2822c40d713db2012": {
      "model_module": "@jupyter-widgets/controls",
      "model_module_version": "1.5.0",
      "model_name": "DescriptionStyleModel",
      "state": {
       "_model_module": "@jupyter-widgets/controls",
       "_model_module_version": "1.5.0",
       "_model_name": "DescriptionStyleModel",
       "_view_count": null,
       "_view_module": "@jupyter-widgets/base",
       "_view_module_version": "1.2.0",
       "_view_name": "StyleView",
       "description_width": ""
      }
     },
     "0877caee2a204dc38b5be2293b122266": {
      "model_module": "@jupyter-widgets/base",
      "model_module_version": "1.2.0",
      "model_name": "LayoutModel",
      "state": {
       "_model_module": "@jupyter-widgets/base",
       "_model_module_version": "1.2.0",
       "_model_name": "LayoutModel",
       "_view_count": null,
       "_view_module": "@jupyter-widgets/base",
       "_view_module_version": "1.2.0",
       "_view_name": "LayoutView",
       "align_content": null,
       "align_items": null,
       "align_self": null,
       "border": null,
       "bottom": null,
       "display": null,
       "flex": null,
       "flex_flow": null,
       "grid_area": null,
       "grid_auto_columns": null,
       "grid_auto_flow": null,
       "grid_auto_rows": null,
       "grid_column": null,
       "grid_gap": null,
       "grid_row": null,
       "grid_template_areas": null,
       "grid_template_columns": null,
       "grid_template_rows": null,
       "height": null,
       "justify_content": null,
       "justify_items": null,
       "left": null,
       "margin": null,
       "max_height": null,
       "max_width": null,
       "min_height": null,
       "min_width": null,
       "object_fit": null,
       "object_position": null,
       "order": null,
       "overflow": null,
       "overflow_x": null,
       "overflow_y": null,
       "padding": null,
       "right": null,
       "top": null,
       "visibility": null,
       "width": null
      }
     },
     "0c71f586e4df4ff6a40e4702c09e8a92": {
      "model_module": "@jupyter-widgets/controls",
      "model_module_version": "1.5.0",
      "model_name": "DescriptionStyleModel",
      "state": {
       "_model_module": "@jupyter-widgets/controls",
       "_model_module_version": "1.5.0",
       "_model_name": "DescriptionStyleModel",
       "_view_count": null,
       "_view_module": "@jupyter-widgets/base",
       "_view_module_version": "1.2.0",
       "_view_name": "StyleView",
       "description_width": ""
      }
     },
     "2a6ca77955124c17ba12c9dd9ebdcd5d": {
      "model_module": "@jupyter-widgets/controls",
      "model_module_version": "1.5.0",
      "model_name": "HBoxModel",
      "state": {
       "_dom_classes": [],
       "_model_module": "@jupyter-widgets/controls",
       "_model_module_version": "1.5.0",
       "_model_name": "HBoxModel",
       "_view_count": null,
       "_view_module": "@jupyter-widgets/controls",
       "_view_module_version": "1.5.0",
       "_view_name": "HBoxView",
       "box_style": "",
       "children": [
        "IPY_MODEL_d17ff96e95a740859a10545d1db44eee",
        "IPY_MODEL_8559b4ab15e6407c90fc7f9fc20c2c57"
       ],
       "layout": "IPY_MODEL_f515871a9d8b41a7819c01b02a9a2a1a"
      }
     },
     "2b08fea7375749379494b49fcec0a808": {
      "model_module": "@jupyter-widgets/controls",
      "model_module_version": "1.5.0",
      "model_name": "FloatProgressModel",
      "state": {
       "_dom_classes": [],
       "_model_module": "@jupyter-widgets/controls",
       "_model_module_version": "1.5.0",
       "_model_name": "FloatProgressModel",
       "_view_count": null,
       "_view_module": "@jupyter-widgets/controls",
       "_view_module_version": "1.5.0",
       "_view_name": "ProgressView",
       "bar_style": "success",
       "description": "100%",
       "description_tooltip": null,
       "layout": "IPY_MODEL_728b2d8cce85491598e37abba1e34b07",
       "max": 303.0,
       "min": 0.0,
       "orientation": "horizontal",
       "style": "IPY_MODEL_7374031d3e154d98a78e6fc2f2540d9b",
       "value": 303.0
      }
     },
     "358924f8339946e786b8232be9887268": {
      "model_module": "@jupyter-widgets/controls",
      "model_module_version": "1.5.0",
      "model_name": "HBoxModel",
      "state": {
       "_dom_classes": [],
       "_model_module": "@jupyter-widgets/controls",
       "_model_module_version": "1.5.0",
       "_model_name": "HBoxModel",
       "_view_count": null,
       "_view_module": "@jupyter-widgets/controls",
       "_view_module_version": "1.5.0",
       "_view_name": "HBoxView",
       "box_style": "",
       "children": [
        "IPY_MODEL_ec368da220ab4671850f851ccf5928bf",
        "IPY_MODEL_906916d050ed4c85b3a4f95770d1ad65"
       ],
       "layout": "IPY_MODEL_5130ef9c89894beeada981775336fa29"
      }
     },
     "3d7e42ea243448db9924661a03c8ca54": {
      "model_module": "@jupyter-widgets/base",
      "model_module_version": "1.2.0",
      "model_name": "LayoutModel",
      "state": {
       "_model_module": "@jupyter-widgets/base",
       "_model_module_version": "1.2.0",
       "_model_name": "LayoutModel",
       "_view_count": null,
       "_view_module": "@jupyter-widgets/base",
       "_view_module_version": "1.2.0",
       "_view_name": "LayoutView",
       "align_content": null,
       "align_items": null,
       "align_self": null,
       "border": null,
       "bottom": null,
       "display": null,
       "flex": null,
       "flex_flow": null,
       "grid_area": null,
       "grid_auto_columns": null,
       "grid_auto_flow": null,
       "grid_auto_rows": null,
       "grid_column": null,
       "grid_gap": null,
       "grid_row": null,
       "grid_template_areas": null,
       "grid_template_columns": null,
       "grid_template_rows": null,
       "height": null,
       "justify_content": null,
       "justify_items": null,
       "left": null,
       "margin": null,
       "max_height": null,
       "max_width": null,
       "min_height": null,
       "min_width": null,
       "object_fit": null,
       "object_position": null,
       "order": null,
       "overflow": null,
       "overflow_x": null,
       "overflow_y": null,
       "padding": null,
       "right": null,
       "top": null,
       "visibility": null,
       "width": null
      }
     },
     "3ed007a640384b50a30cf95d1b24b72d": {
      "model_module": "@jupyter-widgets/controls",
      "model_module_version": "1.5.0",
      "model_name": "HBoxModel",
      "state": {
       "_dom_classes": [],
       "_model_module": "@jupyter-widgets/controls",
       "_model_module_version": "1.5.0",
       "_model_name": "HBoxModel",
       "_view_count": null,
       "_view_module": "@jupyter-widgets/controls",
       "_view_module_version": "1.5.0",
       "_view_name": "HBoxView",
       "box_style": "",
       "children": [
        "IPY_MODEL_2b08fea7375749379494b49fcec0a808",
        "IPY_MODEL_9dea52ff032a4ec5b3e2f6056c44f7c8"
       ],
       "layout": "IPY_MODEL_c2bca25cb4df4007882d1006b76f185e"
      }
     },
     "41f3607a31a44ebf81216ef5cb4fc196": {
      "model_module": "@jupyter-widgets/controls",
      "model_module_version": "1.5.0",
      "model_name": "ProgressStyleModel",
      "state": {
       "_model_module": "@jupyter-widgets/controls",
       "_model_module_version": "1.5.0",
       "_model_name": "ProgressStyleModel",
       "_view_count": null,
       "_view_module": "@jupyter-widgets/base",
       "_view_module_version": "1.2.0",
       "_view_name": "StyleView",
       "bar_color": null,
       "description_width": "initial"
      }
     },
     "5130ef9c89894beeada981775336fa29": {
      "model_module": "@jupyter-widgets/base",
      "model_module_version": "1.2.0",
      "model_name": "LayoutModel",
      "state": {
       "_model_module": "@jupyter-widgets/base",
       "_model_module_version": "1.2.0",
       "_model_name": "LayoutModel",
       "_view_count": null,
       "_view_module": "@jupyter-widgets/base",
       "_view_module_version": "1.2.0",
       "_view_name": "LayoutView",
       "align_content": null,
       "align_items": null,
       "align_self": null,
       "border": null,
       "bottom": null,
       "display": null,
       "flex": null,
       "flex_flow": null,
       "grid_area": null,
       "grid_auto_columns": null,
       "grid_auto_flow": null,
       "grid_auto_rows": null,
       "grid_column": null,
       "grid_gap": null,
       "grid_row": null,
       "grid_template_areas": null,
       "grid_template_columns": null,
       "grid_template_rows": null,
       "height": null,
       "justify_content": null,
       "justify_items": null,
       "left": null,
       "margin": null,
       "max_height": null,
       "max_width": null,
       "min_height": null,
       "min_width": null,
       "object_fit": null,
       "object_position": null,
       "order": null,
       "overflow": null,
       "overflow_x": null,
       "overflow_y": null,
       "padding": null,
       "right": null,
       "top": null,
       "visibility": null,
       "width": null
      }
     },
     "61133c59661e4af087a3410148fe7ac7": {
      "model_module": "@jupyter-widgets/base",
      "model_module_version": "1.2.0",
      "model_name": "LayoutModel",
      "state": {
       "_model_module": "@jupyter-widgets/base",
       "_model_module_version": "1.2.0",
       "_model_name": "LayoutModel",
       "_view_count": null,
       "_view_module": "@jupyter-widgets/base",
       "_view_module_version": "1.2.0",
       "_view_name": "LayoutView",
       "align_content": null,
       "align_items": null,
       "align_self": null,
       "border": null,
       "bottom": null,
       "display": null,
       "flex": null,
       "flex_flow": null,
       "grid_area": null,
       "grid_auto_columns": null,
       "grid_auto_flow": null,
       "grid_auto_rows": null,
       "grid_column": null,
       "grid_gap": null,
       "grid_row": null,
       "grid_template_areas": null,
       "grid_template_columns": null,
       "grid_template_rows": null,
       "height": null,
       "justify_content": null,
       "justify_items": null,
       "left": null,
       "margin": null,
       "max_height": null,
       "max_width": null,
       "min_height": null,
       "min_width": null,
       "object_fit": null,
       "object_position": null,
       "order": null,
       "overflow": null,
       "overflow_x": null,
       "overflow_y": null,
       "padding": null,
       "right": null,
       "top": null,
       "visibility": null,
       "width": null
      }
     },
     "728b2d8cce85491598e37abba1e34b07": {
      "model_module": "@jupyter-widgets/base",
      "model_module_version": "1.2.0",
      "model_name": "LayoutModel",
      "state": {
       "_model_module": "@jupyter-widgets/base",
       "_model_module_version": "1.2.0",
       "_model_name": "LayoutModel",
       "_view_count": null,
       "_view_module": "@jupyter-widgets/base",
       "_view_module_version": "1.2.0",
       "_view_name": "LayoutView",
       "align_content": null,
       "align_items": null,
       "align_self": null,
       "border": null,
       "bottom": null,
       "display": null,
       "flex": null,
       "flex_flow": null,
       "grid_area": null,
       "grid_auto_columns": null,
       "grid_auto_flow": null,
       "grid_auto_rows": null,
       "grid_column": null,
       "grid_gap": null,
       "grid_row": null,
       "grid_template_areas": null,
       "grid_template_columns": null,
       "grid_template_rows": null,
       "height": null,
       "justify_content": null,
       "justify_items": null,
       "left": null,
       "margin": null,
       "max_height": null,
       "max_width": null,
       "min_height": null,
       "min_width": null,
       "object_fit": null,
       "object_position": null,
       "order": null,
       "overflow": null,
       "overflow_x": null,
       "overflow_y": null,
       "padding": null,
       "right": null,
       "top": null,
       "visibility": null,
       "width": null
      }
     },
     "7374031d3e154d98a78e6fc2f2540d9b": {
      "model_module": "@jupyter-widgets/controls",
      "model_module_version": "1.5.0",
      "model_name": "ProgressStyleModel",
      "state": {
       "_model_module": "@jupyter-widgets/controls",
       "_model_module_version": "1.5.0",
       "_model_name": "ProgressStyleModel",
       "_view_count": null,
       "_view_module": "@jupyter-widgets/base",
       "_view_module_version": "1.2.0",
       "_view_name": "StyleView",
       "bar_color": null,
       "description_width": "initial"
      }
     },
     "7cf1e87d614946fcaf036502af50570e": {
      "model_module": "@jupyter-widgets/controls",
      "model_module_version": "1.5.0",
      "model_name": "ProgressStyleModel",
      "state": {
       "_model_module": "@jupyter-widgets/controls",
       "_model_module_version": "1.5.0",
       "_model_name": "ProgressStyleModel",
       "_view_count": null,
       "_view_module": "@jupyter-widgets/base",
       "_view_module_version": "1.2.0",
       "_view_name": "StyleView",
       "bar_color": null,
       "description_width": "initial"
      }
     },
     "7fc05f4fb3e6427596599aadf9934b54": {
      "model_module": "@jupyter-widgets/base",
      "model_module_version": "1.2.0",
      "model_name": "LayoutModel",
      "state": {
       "_model_module": "@jupyter-widgets/base",
       "_model_module_version": "1.2.0",
       "_model_name": "LayoutModel",
       "_view_count": null,
       "_view_module": "@jupyter-widgets/base",
       "_view_module_version": "1.2.0",
       "_view_name": "LayoutView",
       "align_content": null,
       "align_items": null,
       "align_self": null,
       "border": null,
       "bottom": null,
       "display": null,
       "flex": null,
       "flex_flow": null,
       "grid_area": null,
       "grid_auto_columns": null,
       "grid_auto_flow": null,
       "grid_auto_rows": null,
       "grid_column": null,
       "grid_gap": null,
       "grid_row": null,
       "grid_template_areas": null,
       "grid_template_columns": null,
       "grid_template_rows": null,
       "height": null,
       "justify_content": null,
       "justify_items": null,
       "left": null,
       "margin": null,
       "max_height": null,
       "max_width": null,
       "min_height": null,
       "min_width": null,
       "object_fit": null,
       "object_position": null,
       "order": null,
       "overflow": null,
       "overflow_x": null,
       "overflow_y": null,
       "padding": null,
       "right": null,
       "top": null,
       "visibility": null,
       "width": null
      }
     },
     "8559b4ab15e6407c90fc7f9fc20c2c57": {
      "model_module": "@jupyter-widgets/controls",
      "model_module_version": "1.5.0",
      "model_name": "HTMLModel",
      "state": {
       "_dom_classes": [],
       "_model_module": "@jupyter-widgets/controls",
       "_model_module_version": "1.5.0",
       "_model_name": "HTMLModel",
       "_view_count": null,
       "_view_module": "@jupyter-widgets/controls",
       "_view_module_version": "1.5.0",
       "_view_name": "HTMLView",
       "description": "",
       "description_tooltip": null,
       "layout": "IPY_MODEL_61133c59661e4af087a3410148fe7ac7",
       "placeholder": "​",
       "style": "IPY_MODEL_0c71f586e4df4ff6a40e4702c09e8a92",
       "value": " 303/303 [02:24&lt;00:00,  2.10it/s]"
      }
     },
     "906916d050ed4c85b3a4f95770d1ad65": {
      "model_module": "@jupyter-widgets/controls",
      "model_module_version": "1.5.0",
      "model_name": "HTMLModel",
      "state": {
       "_dom_classes": [],
       "_model_module": "@jupyter-widgets/controls",
       "_model_module_version": "1.5.0",
       "_model_name": "HTMLModel",
       "_view_count": null,
       "_view_module": "@jupyter-widgets/controls",
       "_view_module_version": "1.5.0",
       "_view_name": "HTMLView",
       "description": "",
       "description_tooltip": null,
       "layout": "IPY_MODEL_acea9c438b0c49ce926e1b7c848954e9",
       "placeholder": "​",
       "style": "IPY_MODEL_c9398fc1d56b49b6850a527d7a558c8f",
       "value": " 303/303 [02:21&lt;00:00,  2.14it/s]"
      }
     },
     "9dea52ff032a4ec5b3e2f6056c44f7c8": {
      "model_module": "@jupyter-widgets/controls",
      "model_module_version": "1.5.0",
      "model_name": "HTMLModel",
      "state": {
       "_dom_classes": [],
       "_model_module": "@jupyter-widgets/controls",
       "_model_module_version": "1.5.0",
       "_model_name": "HTMLModel",
       "_view_count": null,
       "_view_module": "@jupyter-widgets/controls",
       "_view_module_version": "1.5.0",
       "_view_name": "HTMLView",
       "description": "",
       "description_tooltip": null,
       "layout": "IPY_MODEL_7fc05f4fb3e6427596599aadf9934b54",
       "placeholder": "​",
       "style": "IPY_MODEL_01854ddcc9624ec2822c40d713db2012",
       "value": " 303/303 [01:12&lt;00:00,  4.19it/s]"
      }
     },
     "acea9c438b0c49ce926e1b7c848954e9": {
      "model_module": "@jupyter-widgets/base",
      "model_module_version": "1.2.0",
      "model_name": "LayoutModel",
      "state": {
       "_model_module": "@jupyter-widgets/base",
       "_model_module_version": "1.2.0",
       "_model_name": "LayoutModel",
       "_view_count": null,
       "_view_module": "@jupyter-widgets/base",
       "_view_module_version": "1.2.0",
       "_view_name": "LayoutView",
       "align_content": null,
       "align_items": null,
       "align_self": null,
       "border": null,
       "bottom": null,
       "display": null,
       "flex": null,
       "flex_flow": null,
       "grid_area": null,
       "grid_auto_columns": null,
       "grid_auto_flow": null,
       "grid_auto_rows": null,
       "grid_column": null,
       "grid_gap": null,
       "grid_row": null,
       "grid_template_areas": null,
       "grid_template_columns": null,
       "grid_template_rows": null,
       "height": null,
       "justify_content": null,
       "justify_items": null,
       "left": null,
       "margin": null,
       "max_height": null,
       "max_width": null,
       "min_height": null,
       "min_width": null,
       "object_fit": null,
       "object_position": null,
       "order": null,
       "overflow": null,
       "overflow_x": null,
       "overflow_y": null,
       "padding": null,
       "right": null,
       "top": null,
       "visibility": null,
       "width": null
      }
     },
     "c2bca25cb4df4007882d1006b76f185e": {
      "model_module": "@jupyter-widgets/base",
      "model_module_version": "1.2.0",
      "model_name": "LayoutModel",
      "state": {
       "_model_module": "@jupyter-widgets/base",
       "_model_module_version": "1.2.0",
       "_model_name": "LayoutModel",
       "_view_count": null,
       "_view_module": "@jupyter-widgets/base",
       "_view_module_version": "1.2.0",
       "_view_name": "LayoutView",
       "align_content": null,
       "align_items": null,
       "align_self": null,
       "border": null,
       "bottom": null,
       "display": null,
       "flex": null,
       "flex_flow": null,
       "grid_area": null,
       "grid_auto_columns": null,
       "grid_auto_flow": null,
       "grid_auto_rows": null,
       "grid_column": null,
       "grid_gap": null,
       "grid_row": null,
       "grid_template_areas": null,
       "grid_template_columns": null,
       "grid_template_rows": null,
       "height": null,
       "justify_content": null,
       "justify_items": null,
       "left": null,
       "margin": null,
       "max_height": null,
       "max_width": null,
       "min_height": null,
       "min_width": null,
       "object_fit": null,
       "object_position": null,
       "order": null,
       "overflow": null,
       "overflow_x": null,
       "overflow_y": null,
       "padding": null,
       "right": null,
       "top": null,
       "visibility": null,
       "width": null
      }
     },
     "c9398fc1d56b49b6850a527d7a558c8f": {
      "model_module": "@jupyter-widgets/controls",
      "model_module_version": "1.5.0",
      "model_name": "DescriptionStyleModel",
      "state": {
       "_model_module": "@jupyter-widgets/controls",
       "_model_module_version": "1.5.0",
       "_model_name": "DescriptionStyleModel",
       "_view_count": null,
       "_view_module": "@jupyter-widgets/base",
       "_view_module_version": "1.2.0",
       "_view_name": "StyleView",
       "description_width": ""
      }
     },
     "d17ff96e95a740859a10545d1db44eee": {
      "model_module": "@jupyter-widgets/controls",
      "model_module_version": "1.5.0",
      "model_name": "FloatProgressModel",
      "state": {
       "_dom_classes": [],
       "_model_module": "@jupyter-widgets/controls",
       "_model_module_version": "1.5.0",
       "_model_name": "FloatProgressModel",
       "_view_count": null,
       "_view_module": "@jupyter-widgets/controls",
       "_view_module_version": "1.5.0",
       "_view_name": "ProgressView",
       "bar_style": "success",
       "description": "100%",
       "description_tooltip": null,
       "layout": "IPY_MODEL_3d7e42ea243448db9924661a03c8ca54",
       "max": 303.0,
       "min": 0.0,
       "orientation": "horizontal",
       "style": "IPY_MODEL_7cf1e87d614946fcaf036502af50570e",
       "value": 303.0
      }
     },
     "ec368da220ab4671850f851ccf5928bf": {
      "model_module": "@jupyter-widgets/controls",
      "model_module_version": "1.5.0",
      "model_name": "FloatProgressModel",
      "state": {
       "_dom_classes": [],
       "_model_module": "@jupyter-widgets/controls",
       "_model_module_version": "1.5.0",
       "_model_name": "FloatProgressModel",
       "_view_count": null,
       "_view_module": "@jupyter-widgets/controls",
       "_view_module_version": "1.5.0",
       "_view_name": "ProgressView",
       "bar_style": "success",
       "description": "100%",
       "description_tooltip": null,
       "layout": "IPY_MODEL_0877caee2a204dc38b5be2293b122266",
       "max": 303.0,
       "min": 0.0,
       "orientation": "horizontal",
       "style": "IPY_MODEL_41f3607a31a44ebf81216ef5cb4fc196",
       "value": 303.0
      }
     },
     "f515871a9d8b41a7819c01b02a9a2a1a": {
      "model_module": "@jupyter-widgets/base",
      "model_module_version": "1.2.0",
      "model_name": "LayoutModel",
      "state": {
       "_model_module": "@jupyter-widgets/base",
       "_model_module_version": "1.2.0",
       "_model_name": "LayoutModel",
       "_view_count": null,
       "_view_module": "@jupyter-widgets/base",
       "_view_module_version": "1.2.0",
       "_view_name": "LayoutView",
       "align_content": null,
       "align_items": null,
       "align_self": null,
       "border": null,
       "bottom": null,
       "display": null,
       "flex": null,
       "flex_flow": null,
       "grid_area": null,
       "grid_auto_columns": null,
       "grid_auto_flow": null,
       "grid_auto_rows": null,
       "grid_column": null,
       "grid_gap": null,
       "grid_row": null,
       "grid_template_areas": null,
       "grid_template_columns": null,
       "grid_template_rows": null,
       "height": null,
       "justify_content": null,
       "justify_items": null,
       "left": null,
       "margin": null,
       "max_height": null,
       "max_width": null,
       "min_height": null,
       "min_width": null,
       "object_fit": null,
       "object_position": null,
       "order": null,
       "overflow": null,
       "overflow_x": null,
       "overflow_y": null,
       "padding": null,
       "right": null,
       "top": null,
       "visibility": null,
       "width": null
      }
     }
    },
    "version_major": 2,
    "version_minor": 0
   }
  }
 },
 "nbformat": 4,
 "nbformat_minor": 4
}
